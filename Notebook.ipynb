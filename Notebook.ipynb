{
  "nbformat": 4,
  "nbformat_minor": 0,
  "metadata": {
    "colab": {
      "provenance": [],
      "collapsed_sections": [
        "uLaPqDbFnn7a"
      ]
    },
    "kernelspec": {
      "name": "python3",
      "display_name": "Python 3"
    },
    "language_info": {
      "name": "python"
    }
  },
  "cells": [
    {
      "cell_type": "markdown",
      "source": [
        "#**WhatsApp Ads Experiment for Six Squad**\n",
        "## **Measuring the Effectiveness of WhatsApp Business Ads for high-end Streetwear**"
      ],
      "metadata": {
        "id": "a6uZAeym_Sj8"
      }
    },
    {
      "cell_type": "markdown",
      "source": [
        "### **Group 18 - Madhumitha Sriram, Fahad Alsubaie, Raiymbek Ordabayev, Olimpia Borgohain, Rohit Devanaboina**\n",
        "\n"
      ],
      "metadata": {
        "id": "0puyGLTm_U7O"
      }
    },
    {
      "cell_type": "markdown",
      "source": [
        "## **Pre-Experiment Code**\n"
      ],
      "metadata": {
        "id": "uLaPqDbFnn7a"
      }
    },
    {
      "cell_type": "code",
      "execution_count": null,
      "metadata": {
        "id": "bhlX9r1oodAp",
        "colab": {
          "base_uri": "https://localhost:8080/"
        },
        "outputId": "007d4b8d-fbe6-47b8-f4ee-8ca036f141d6"
      },
      "outputs": [
        {
          "output_type": "execute_result",
          "data": {
            "text/plain": [
              "0.390625"
            ]
          },
          "metadata": {},
          "execution_count": 555
        }
      ],
      "source": [
        "## Rough ex-ante Power Calculations\n",
        "\n",
        "from pingouin import power_ttest\n",
        "import numpy as np\n",
        "from google.colab import drive\n",
        "import pandas as pd\n",
        "drive.mount('/content/drive')\n",
        "\n",
        "# Reading Loyalty Member CSV\n",
        "clients = pd.read_csv('/content/drive/MyDrive/830/ClientsData-1.csv', delimiter=';')\n",
        "\n",
        "# Finding Cohen's D for 80% power\n",
        "effect_size = power_ttest(power=0.8, n=516, alpha = .05, alternative='two-sided')\n",
        "print(f\" The Cohen's D of outcome variable must be >= {effect_size:.4f} in order to have 80% power\")\n",
        "# Finding Power for small effect_size (0.1)\n",
        "power = power_ttest(d=0.1 , n=516, alpha = .05, alternative='two-sided')\n",
        "print(f\"With a small effect (d=0.1) we will have a power of {power*100:.2f} %\")\n",
        "\n",
        "\n",
        "# Approximating  required mean difference in outcome, based on effect_size and outcome standard deviation\n",
        "\n",
        "ctr_std = ((((1-0.04)**2)*0.04*516 + ((0-0.04)**2)*((1-0.04)*516))/516) # Current CTR is ~2.5%\n",
        "sales_std = np.std(clients['TotalSumOfPurchases'])\n",
        "prop_std = np.std(clients['NumberOfTransactions']>0)\n",
        "\n",
        "\n",
        "\n",
        "# Click Through Rate\n",
        "# mean1 = 0.025 # Current Click Through Rate is ~2.5%\n",
        "#mean2 = 0.068   # Required CTR\n",
        "# s1 = ((((1-mean1)**2)*mean1*516 + ((0-mean1)**2)*(100-(mean1*516)))/516)\n",
        "#s2 = ((((1-mean1)**2)*mean2*516 + ((0-mean2)**2)*(100-(mean2*516)))/516)\n",
        "#n1 = 516\n",
        "#n2 = 516\n",
        "\n",
        "#pooled_std = (((n1 - 1) * s1 + (n2 - 1) * s2) / (n1 + n2 - 2))**(.5)\n",
        "\n",
        "# CTR\n",
        "print('Outcome: Click Through Rate')\n",
        "print(f'There must be a {effect_size*(ctr_std**0.5)*100:.2f}% increase in CTR to achieve 80% power')\n",
        "print(f\"At a small treatment effect on CTR  - {0.1*(ctr_std**0.5)*100:.2f}% (d = 0.1) - the power is {power*100:.2f}%\")\n",
        "\n",
        "# Sales\n",
        "print('Outcome: Sales')\n",
        "print(f'There must be a KZT {effect_size*sales_std:.0f} increase in sales to achieve 80% power')\n",
        "print(f\"At a small treatment effect on Sales  - KZT {0.1*sales_std:.0f} (d = 0.1) - the power is {power*100:.2f}%\")\n",
        "\n",
        "# Purchase Propensity\n",
        "print('Outcome: Purchase Propensity')\n",
        "print(f'There must be a {effect_size*prop_std*100:.2f}% increase in purchase propensity to achieve 80% power')\n",
        "print(f\"At a small Purchase Propensity treatment effect - {0.1*prop_std*100:.2f}% (d = 0.1), the power is {power*100:.2f}%\")\n"
      ]
    },
    {
      "cell_type": "code",
      "source": [
        "\n",
        "## Randomization\n",
        "\n",
        "from google.colab import drive\n",
        "import pandas as pd\n",
        "drive.mount('/content/drive')\n",
        "\n",
        "# Reading Loyalty Member CSV\n",
        "clients = pd.read_csv('/content/drive/MyDrive/830/ClientsData-1.csv', delimiter=';')\n",
        "\n",
        "# Separating Active members (>0 transactions) from inactive members (0 transactions), for Blocking\n",
        "cli_0 = clients[clients.NumberOfTransactions == 0]\n",
        "cli_1 = clients[clients.NumberOfTransactions > 0]\n",
        "\n",
        "# Sampling 100% of each semgment without replacement (Complete Randmization)\n",
        "s = 0\n",
        "clients_0_randomized = cli_0.sample(frac=1, random_state=s).reset_index().drop(\"index\", axis=1)\n",
        "clients_1_randomized = cli_1.sample(frac=1, random_state=s).reset_index().drop(\"index\", axis=1)\n",
        "\n",
        "# Assigning Arm to Inactive members - 33% each arm\n",
        "clients_0_randomized.loc[0:207, \"treatment_group\"] = 1\n",
        "clients_0_randomized.loc[0:207, \"treatment_label\"] = \"no message\"\n",
        "clients_0_randomized.loc[208:415, \"treatment_group\"] = 2\n",
        "clients_0_randomized.loc[208:415, \"treatment_label\"] = \"message 1\"\n",
        "clients_0_randomized.loc[416:625, \"treatment_group\"] = 3\n",
        "clients_0_randomized.loc[416:625, \"treatment_label\"] = \"message 2\"\n",
        "\n",
        "# Assigning Arm to Active members - 33% each arm\n",
        "clients_1_randomized.loc[0:307, \"treatment_group\"] = 1\n",
        "clients_1_randomized.loc[0:307, \"treatment_label\"] = \"no message\"\n",
        "clients_1_randomized.loc[308:615, \"treatment_group\"] = 2\n",
        "clients_1_randomized.loc[308:615, \"treatment_label\"] = \"message 1\"\n",
        "clients_1_randomized.loc[616:925, \"treatment_group\"] = 3\n",
        "clients_1_randomized.loc[616:925, \"treatment_label\"] = \"message 2\"\n",
        "\n",
        "# Combining Active and Inactive members\n",
        "clients_randomized = pd.concat([clients_1_randomized,clients_0_randomized],ignore_index=1)\n",
        "\n",
        "# Using T-Test to verify blocking\n",
        "from scipy.stats import ttest_ind\n",
        "\n",
        "t, p = ttest_ind(clients_randomized[clients_randomized.treatment_group==3]['NumberOfTransactions'],clients_randomized[clients_randomized.treatment_group==1]['NumberOfTransactions'], equal_var=0)\n",
        "print(p > 0.05)\n",
        "\n",
        "# Exporting Client list with Treatment Assignments\n",
        "\n",
        "clients_randomized.to_csv(\"clients_assigned.csv\",sep=',')\n"
      ],
      "metadata": {
        "id": "bON1kepcNhmF"
      },
      "execution_count": null,
      "outputs": []
    },
    {
      "cell_type": "markdown",
      "source": [
        "## **Results**"
      ],
      "metadata": {
        "id": "15lsSLOQxGp6"
      }
    },
    {
      "cell_type": "markdown",
      "source": [
        "Now, let us see the results of our experiment. The primary focus of our results are regression test and heterogeneneous treatment effects.   But first, let us explore our dataset."
      ],
      "metadata": {
        "id": "vfZC0qHhvD0Y"
      }
    },
    {
      "cell_type": "code",
      "source": [
        "!pip install pingouin\n",
        "!pip install stargazer"
      ],
      "metadata": {
        "id": "XfGEy4263K_t"
      },
      "execution_count": null,
      "outputs": []
    },
    {
      "cell_type": "code",
      "source": [
        "# Importing experiment data\n",
        "from google.colab import drive\n",
        "import pandas as pd\n",
        "drive.mount('/content/drive')\n",
        "\n",
        "# 7 Days Loyalty Members data\n",
        "data = pd.read_csv('/content/drive/MyDrive/830/ExperimentDataSunday.csv', delimiter=';')\n",
        "\n",
        "# Experiment Members\n",
        "clients_assigned = pd.read_csv('/content/drive/MyDrive/830/clients_assigned.csv', delimiter=',').drop('Unnamed: 0', axis=1).drop(['PartnerName', 'BOTID'],axis=1)\n",
        "\n",
        "# Aggregating and merging datasets\n",
        "data = data.groupby('CustomerID').agg({\"CheckID\":lambda x: x.nunique(), 'Quantity':'sum', 'Summ':'sum', 'AdvertisedProduct':'sum'}).reset_index()\n",
        "data['Purchase Propensity (post)'] = (data['CheckID'] > 0).astype('int')\n",
        "data = data.rename(columns={'CheckID':'Total Transactions (post)', 'Summ':'Net Sales (post)', 'AdvertisedProduct':'Total Conversions (post)', \"Quantity\":'Quantity (post)'})\n",
        "\n",
        "clients_assigned = clients_assigned.rename(columns={'NumberOfTransactions':'Total Transactions (past)','TotalSumOfPurchases':'Net Sales (past)', 'treatment_group':'Treatment Group'})\\\n",
        "                    .drop('treatment_label', axis=1)\n",
        "\n",
        "merged = pd.merge(clients_assigned, data, how = 'left', left_on='PartnerID', right_on = 'CustomerID').drop('CustomerID', axis=1).fillna(0)\n",
        "print(f\"Total Customers in experiment who made atleast one purchase = {(merged['Total Transactions (post)'] > 0).sum()}\")\n",
        "\n",
        "# DF without the outlier member\n",
        "merged_tatiana = merged[merged.PartnerID != \"B6E2EB7304FAA17411EE97F302CDE61E\"]\n",
        "\n",
        "# Display Summary Statistics\n",
        "print('Outlier Member (Tatiana)')\n",
        "display(merged[merged.PartnerID == \"B6E2EB7304FAA17411EE97F302CDE61E\"])\n",
        "print('Mean Outcome Values by Treatment Arm (With Tatiana)')\n",
        "display(merged.groupby('Treatment Group').agg(\"mean\"))\n",
        "print('Mean Outcome Values by Treatment Arm (Without Tatiana)')\n",
        "display(merged_tatiana.groupby('Treatment Group').agg(\"mean\"))\n",
        "\n"
      ],
      "metadata": {
        "id": "2kbyt47inWoT",
        "colab": {
          "base_uri": "https://localhost:8080/",
          "height": 624
        },
        "outputId": "d675333f-3d3e-4b31-a8ab-9521e7243925"
      },
      "execution_count": 1,
      "outputs": [
        {
          "output_type": "stream",
          "name": "stdout",
          "text": [
            "Mounted at /content/drive\n",
            "Total Customers in experiment who made atleast one purchase = 14\n",
            "Outlier Member (Tatiana)\n"
          ]
        },
        {
          "output_type": "display_data",
          "data": {
            "text/plain": [
              "                           PartnerID            DateOfReg  \\\n",
              "69  B6E2EB7304FAA17411EE97F302CDE61E  2023-12-11 00:00:00   \n",
              "\n",
              "         DateOfBirthday  Total Transactions (past)  Net Sales (past)  \\\n",
              "69  1979-01-08 00:00:00                          2          375000.0   \n",
              "\n",
              "    Treatment Group  Total Transactions (post)  Quantity (post)  \\\n",
              "69              1.0                        1.0              9.0   \n",
              "\n",
              "    Net Sales (post)  Total Conversions (post)  Purchase Propensity (post)  \n",
              "69          674000.0                       0.0                         1.0  "
            ],
            "text/html": [
              "\n",
              "  <div id=\"df-f0782d30-fec2-4a6e-87a1-5810156dce54\" class=\"colab-df-container\">\n",
              "    <div>\n",
              "<style scoped>\n",
              "    .dataframe tbody tr th:only-of-type {\n",
              "        vertical-align: middle;\n",
              "    }\n",
              "\n",
              "    .dataframe tbody tr th {\n",
              "        vertical-align: top;\n",
              "    }\n",
              "\n",
              "    .dataframe thead th {\n",
              "        text-align: right;\n",
              "    }\n",
              "</style>\n",
              "<table border=\"1\" class=\"dataframe\">\n",
              "  <thead>\n",
              "    <tr style=\"text-align: right;\">\n",
              "      <th></th>\n",
              "      <th>PartnerID</th>\n",
              "      <th>DateOfReg</th>\n",
              "      <th>DateOfBirthday</th>\n",
              "      <th>Total Transactions (past)</th>\n",
              "      <th>Net Sales (past)</th>\n",
              "      <th>Treatment Group</th>\n",
              "      <th>Total Transactions (post)</th>\n",
              "      <th>Quantity (post)</th>\n",
              "      <th>Net Sales (post)</th>\n",
              "      <th>Total Conversions (post)</th>\n",
              "      <th>Purchase Propensity (post)</th>\n",
              "    </tr>\n",
              "  </thead>\n",
              "  <tbody>\n",
              "    <tr>\n",
              "      <th>69</th>\n",
              "      <td>B6E2EB7304FAA17411EE97F302CDE61E</td>\n",
              "      <td>2023-12-11 00:00:00</td>\n",
              "      <td>1979-01-08 00:00:00</td>\n",
              "      <td>2</td>\n",
              "      <td>375000.0</td>\n",
              "      <td>1.0</td>\n",
              "      <td>1.0</td>\n",
              "      <td>9.0</td>\n",
              "      <td>674000.0</td>\n",
              "      <td>0.0</td>\n",
              "      <td>1.0</td>\n",
              "    </tr>\n",
              "  </tbody>\n",
              "</table>\n",
              "</div>\n",
              "    <div class=\"colab-df-buttons\">\n",
              "\n",
              "  <div class=\"colab-df-container\">\n",
              "    <button class=\"colab-df-convert\" onclick=\"convertToInteractive('df-f0782d30-fec2-4a6e-87a1-5810156dce54')\"\n",
              "            title=\"Convert this dataframe to an interactive table.\"\n",
              "            style=\"display:none;\">\n",
              "\n",
              "  <svg xmlns=\"http://www.w3.org/2000/svg\" height=\"24px\" viewBox=\"0 -960 960 960\">\n",
              "    <path d=\"M120-120v-720h720v720H120Zm60-500h600v-160H180v160Zm220 220h160v-160H400v160Zm0 220h160v-160H400v160ZM180-400h160v-160H180v160Zm440 0h160v-160H620v160ZM180-180h160v-160H180v160Zm440 0h160v-160H620v160Z\"/>\n",
              "  </svg>\n",
              "    </button>\n",
              "\n",
              "  <style>\n",
              "    .colab-df-container {\n",
              "      display:flex;\n",
              "      gap: 12px;\n",
              "    }\n",
              "\n",
              "    .colab-df-convert {\n",
              "      background-color: #E8F0FE;\n",
              "      border: none;\n",
              "      border-radius: 50%;\n",
              "      cursor: pointer;\n",
              "      display: none;\n",
              "      fill: #1967D2;\n",
              "      height: 32px;\n",
              "      padding: 0 0 0 0;\n",
              "      width: 32px;\n",
              "    }\n",
              "\n",
              "    .colab-df-convert:hover {\n",
              "      background-color: #E2EBFA;\n",
              "      box-shadow: 0px 1px 2px rgba(60, 64, 67, 0.3), 0px 1px 3px 1px rgba(60, 64, 67, 0.15);\n",
              "      fill: #174EA6;\n",
              "    }\n",
              "\n",
              "    .colab-df-buttons div {\n",
              "      margin-bottom: 4px;\n",
              "    }\n",
              "\n",
              "    [theme=dark] .colab-df-convert {\n",
              "      background-color: #3B4455;\n",
              "      fill: #D2E3FC;\n",
              "    }\n",
              "\n",
              "    [theme=dark] .colab-df-convert:hover {\n",
              "      background-color: #434B5C;\n",
              "      box-shadow: 0px 1px 3px 1px rgba(0, 0, 0, 0.15);\n",
              "      filter: drop-shadow(0px 1px 2px rgba(0, 0, 0, 0.3));\n",
              "      fill: #FFFFFF;\n",
              "    }\n",
              "  </style>\n",
              "\n",
              "    <script>\n",
              "      const buttonEl =\n",
              "        document.querySelector('#df-f0782d30-fec2-4a6e-87a1-5810156dce54 button.colab-df-convert');\n",
              "      buttonEl.style.display =\n",
              "        google.colab.kernel.accessAllowed ? 'block' : 'none';\n",
              "\n",
              "      async function convertToInteractive(key) {\n",
              "        const element = document.querySelector('#df-f0782d30-fec2-4a6e-87a1-5810156dce54');\n",
              "        const dataTable =\n",
              "          await google.colab.kernel.invokeFunction('convertToInteractive',\n",
              "                                                    [key], {});\n",
              "        if (!dataTable) return;\n",
              "\n",
              "        const docLinkHtml = 'Like what you see? Visit the ' +\n",
              "          '<a target=\"_blank\" href=https://colab.research.google.com/notebooks/data_table.ipynb>data table notebook</a>'\n",
              "          + ' to learn more about interactive tables.';\n",
              "        element.innerHTML = '';\n",
              "        dataTable['output_type'] = 'display_data';\n",
              "        await google.colab.output.renderOutput(dataTable, element);\n",
              "        const docLink = document.createElement('div');\n",
              "        docLink.innerHTML = docLinkHtml;\n",
              "        element.appendChild(docLink);\n",
              "      }\n",
              "    </script>\n",
              "  </div>\n",
              "\n",
              "    </div>\n",
              "  </div>\n"
            ],
            "application/vnd.google.colaboratory.intrinsic+json": {
              "type": "dataframe",
              "repr_error": "0"
            }
          },
          "metadata": {}
        },
        {
          "output_type": "stream",
          "name": "stdout",
          "text": [
            "Mean Outcome Values by Treatment Arm (With Tatiana)\n"
          ]
        },
        {
          "output_type": "stream",
          "name": "stderr",
          "text": [
            "<ipython-input-1-bd5443283373>:30: FutureWarning: The default value of numeric_only in DataFrameGroupBy.mean is deprecated. In a future version, numeric_only will default to False. Either specify numeric_only or select only columns which should be valid for the function.\n",
            "  display(merged.groupby('Treatment Group').agg(\"mean\"))\n"
          ]
        },
        {
          "output_type": "display_data",
          "data": {
            "text/plain": [
              "                 Total Transactions (past)  Net Sales (past)  \\\n",
              "Treatment Group                                                \n",
              "1.0                               0.854651      92977.262151   \n",
              "2.0                               0.812016      89585.616279   \n",
              "3.0                               0.835590      89262.893617   \n",
              "\n",
              "                 Total Transactions (post)  Quantity (post)  Net Sales (post)  \\\n",
              "Treatment Group                                                                 \n",
              "1.0                               0.007752         0.027132       1671.957364   \n",
              "2.0                               0.007752         0.019380       1147.286822   \n",
              "3.0                               0.015474         0.023211       1928.487427   \n",
              "\n",
              "                 Total Conversions (post)  Purchase Propensity (post)  \n",
              "Treatment Group                                                        \n",
              "1.0                                   0.0                    0.007752  \n",
              "2.0                                   0.0                    0.005814  \n",
              "3.0                                   0.0                    0.013540  "
            ],
            "text/html": [
              "\n",
              "  <div id=\"df-314dc652-ae09-4232-91df-e6237a33b5a2\" class=\"colab-df-container\">\n",
              "    <div>\n",
              "<style scoped>\n",
              "    .dataframe tbody tr th:only-of-type {\n",
              "        vertical-align: middle;\n",
              "    }\n",
              "\n",
              "    .dataframe tbody tr th {\n",
              "        vertical-align: top;\n",
              "    }\n",
              "\n",
              "    .dataframe thead th {\n",
              "        text-align: right;\n",
              "    }\n",
              "</style>\n",
              "<table border=\"1\" class=\"dataframe\">\n",
              "  <thead>\n",
              "    <tr style=\"text-align: right;\">\n",
              "      <th></th>\n",
              "      <th>Total Transactions (past)</th>\n",
              "      <th>Net Sales (past)</th>\n",
              "      <th>Total Transactions (post)</th>\n",
              "      <th>Quantity (post)</th>\n",
              "      <th>Net Sales (post)</th>\n",
              "      <th>Total Conversions (post)</th>\n",
              "      <th>Purchase Propensity (post)</th>\n",
              "    </tr>\n",
              "    <tr>\n",
              "      <th>Treatment Group</th>\n",
              "      <th></th>\n",
              "      <th></th>\n",
              "      <th></th>\n",
              "      <th></th>\n",
              "      <th></th>\n",
              "      <th></th>\n",
              "      <th></th>\n",
              "    </tr>\n",
              "  </thead>\n",
              "  <tbody>\n",
              "    <tr>\n",
              "      <th>1.0</th>\n",
              "      <td>0.854651</td>\n",
              "      <td>92977.262151</td>\n",
              "      <td>0.007752</td>\n",
              "      <td>0.027132</td>\n",
              "      <td>1671.957364</td>\n",
              "      <td>0.0</td>\n",
              "      <td>0.007752</td>\n",
              "    </tr>\n",
              "    <tr>\n",
              "      <th>2.0</th>\n",
              "      <td>0.812016</td>\n",
              "      <td>89585.616279</td>\n",
              "      <td>0.007752</td>\n",
              "      <td>0.019380</td>\n",
              "      <td>1147.286822</td>\n",
              "      <td>0.0</td>\n",
              "      <td>0.005814</td>\n",
              "    </tr>\n",
              "    <tr>\n",
              "      <th>3.0</th>\n",
              "      <td>0.835590</td>\n",
              "      <td>89262.893617</td>\n",
              "      <td>0.015474</td>\n",
              "      <td>0.023211</td>\n",
              "      <td>1928.487427</td>\n",
              "      <td>0.0</td>\n",
              "      <td>0.013540</td>\n",
              "    </tr>\n",
              "  </tbody>\n",
              "</table>\n",
              "</div>\n",
              "    <div class=\"colab-df-buttons\">\n",
              "\n",
              "  <div class=\"colab-df-container\">\n",
              "    <button class=\"colab-df-convert\" onclick=\"convertToInteractive('df-314dc652-ae09-4232-91df-e6237a33b5a2')\"\n",
              "            title=\"Convert this dataframe to an interactive table.\"\n",
              "            style=\"display:none;\">\n",
              "\n",
              "  <svg xmlns=\"http://www.w3.org/2000/svg\" height=\"24px\" viewBox=\"0 -960 960 960\">\n",
              "    <path d=\"M120-120v-720h720v720H120Zm60-500h600v-160H180v160Zm220 220h160v-160H400v160Zm0 220h160v-160H400v160ZM180-400h160v-160H180v160Zm440 0h160v-160H620v160ZM180-180h160v-160H180v160Zm440 0h160v-160H620v160Z\"/>\n",
              "  </svg>\n",
              "    </button>\n",
              "\n",
              "  <style>\n",
              "    .colab-df-container {\n",
              "      display:flex;\n",
              "      gap: 12px;\n",
              "    }\n",
              "\n",
              "    .colab-df-convert {\n",
              "      background-color: #E8F0FE;\n",
              "      border: none;\n",
              "      border-radius: 50%;\n",
              "      cursor: pointer;\n",
              "      display: none;\n",
              "      fill: #1967D2;\n",
              "      height: 32px;\n",
              "      padding: 0 0 0 0;\n",
              "      width: 32px;\n",
              "    }\n",
              "\n",
              "    .colab-df-convert:hover {\n",
              "      background-color: #E2EBFA;\n",
              "      box-shadow: 0px 1px 2px rgba(60, 64, 67, 0.3), 0px 1px 3px 1px rgba(60, 64, 67, 0.15);\n",
              "      fill: #174EA6;\n",
              "    }\n",
              "\n",
              "    .colab-df-buttons div {\n",
              "      margin-bottom: 4px;\n",
              "    }\n",
              "\n",
              "    [theme=dark] .colab-df-convert {\n",
              "      background-color: #3B4455;\n",
              "      fill: #D2E3FC;\n",
              "    }\n",
              "\n",
              "    [theme=dark] .colab-df-convert:hover {\n",
              "      background-color: #434B5C;\n",
              "      box-shadow: 0px 1px 3px 1px rgba(0, 0, 0, 0.15);\n",
              "      filter: drop-shadow(0px 1px 2px rgba(0, 0, 0, 0.3));\n",
              "      fill: #FFFFFF;\n",
              "    }\n",
              "  </style>\n",
              "\n",
              "    <script>\n",
              "      const buttonEl =\n",
              "        document.querySelector('#df-314dc652-ae09-4232-91df-e6237a33b5a2 button.colab-df-convert');\n",
              "      buttonEl.style.display =\n",
              "        google.colab.kernel.accessAllowed ? 'block' : 'none';\n",
              "\n",
              "      async function convertToInteractive(key) {\n",
              "        const element = document.querySelector('#df-314dc652-ae09-4232-91df-e6237a33b5a2');\n",
              "        const dataTable =\n",
              "          await google.colab.kernel.invokeFunction('convertToInteractive',\n",
              "                                                    [key], {});\n",
              "        if (!dataTable) return;\n",
              "\n",
              "        const docLinkHtml = 'Like what you see? Visit the ' +\n",
              "          '<a target=\"_blank\" href=https://colab.research.google.com/notebooks/data_table.ipynb>data table notebook</a>'\n",
              "          + ' to learn more about interactive tables.';\n",
              "        element.innerHTML = '';\n",
              "        dataTable['output_type'] = 'display_data';\n",
              "        await google.colab.output.renderOutput(dataTable, element);\n",
              "        const docLink = document.createElement('div');\n",
              "        docLink.innerHTML = docLinkHtml;\n",
              "        element.appendChild(docLink);\n",
              "      }\n",
              "    </script>\n",
              "  </div>\n",
              "\n",
              "\n",
              "<div id=\"df-e7e08e32-b02b-4d7b-ad41-38ba5cf2f89b\">\n",
              "  <button class=\"colab-df-quickchart\" onclick=\"quickchart('df-e7e08e32-b02b-4d7b-ad41-38ba5cf2f89b')\"\n",
              "            title=\"Suggest charts\"\n",
              "            style=\"display:none;\">\n",
              "\n",
              "<svg xmlns=\"http://www.w3.org/2000/svg\" height=\"24px\"viewBox=\"0 0 24 24\"\n",
              "     width=\"24px\">\n",
              "    <g>\n",
              "        <path d=\"M19 3H5c-1.1 0-2 .9-2 2v14c0 1.1.9 2 2 2h14c1.1 0 2-.9 2-2V5c0-1.1-.9-2-2-2zM9 17H7v-7h2v7zm4 0h-2V7h2v10zm4 0h-2v-4h2v4z\"/>\n",
              "    </g>\n",
              "</svg>\n",
              "  </button>\n",
              "\n",
              "<style>\n",
              "  .colab-df-quickchart {\n",
              "      --bg-color: #E8F0FE;\n",
              "      --fill-color: #1967D2;\n",
              "      --hover-bg-color: #E2EBFA;\n",
              "      --hover-fill-color: #174EA6;\n",
              "      --disabled-fill-color: #AAA;\n",
              "      --disabled-bg-color: #DDD;\n",
              "  }\n",
              "\n",
              "  [theme=dark] .colab-df-quickchart {\n",
              "      --bg-color: #3B4455;\n",
              "      --fill-color: #D2E3FC;\n",
              "      --hover-bg-color: #434B5C;\n",
              "      --hover-fill-color: #FFFFFF;\n",
              "      --disabled-bg-color: #3B4455;\n",
              "      --disabled-fill-color: #666;\n",
              "  }\n",
              "\n",
              "  .colab-df-quickchart {\n",
              "    background-color: var(--bg-color);\n",
              "    border: none;\n",
              "    border-radius: 50%;\n",
              "    cursor: pointer;\n",
              "    display: none;\n",
              "    fill: var(--fill-color);\n",
              "    height: 32px;\n",
              "    padding: 0;\n",
              "    width: 32px;\n",
              "  }\n",
              "\n",
              "  .colab-df-quickchart:hover {\n",
              "    background-color: var(--hover-bg-color);\n",
              "    box-shadow: 0 1px 2px rgba(60, 64, 67, 0.3), 0 1px 3px 1px rgba(60, 64, 67, 0.15);\n",
              "    fill: var(--button-hover-fill-color);\n",
              "  }\n",
              "\n",
              "  .colab-df-quickchart-complete:disabled,\n",
              "  .colab-df-quickchart-complete:disabled:hover {\n",
              "    background-color: var(--disabled-bg-color);\n",
              "    fill: var(--disabled-fill-color);\n",
              "    box-shadow: none;\n",
              "  }\n",
              "\n",
              "  .colab-df-spinner {\n",
              "    border: 2px solid var(--fill-color);\n",
              "    border-color: transparent;\n",
              "    border-bottom-color: var(--fill-color);\n",
              "    animation:\n",
              "      spin 1s steps(1) infinite;\n",
              "  }\n",
              "\n",
              "  @keyframes spin {\n",
              "    0% {\n",
              "      border-color: transparent;\n",
              "      border-bottom-color: var(--fill-color);\n",
              "      border-left-color: var(--fill-color);\n",
              "    }\n",
              "    20% {\n",
              "      border-color: transparent;\n",
              "      border-left-color: var(--fill-color);\n",
              "      border-top-color: var(--fill-color);\n",
              "    }\n",
              "    30% {\n",
              "      border-color: transparent;\n",
              "      border-left-color: var(--fill-color);\n",
              "      border-top-color: var(--fill-color);\n",
              "      border-right-color: var(--fill-color);\n",
              "    }\n",
              "    40% {\n",
              "      border-color: transparent;\n",
              "      border-right-color: var(--fill-color);\n",
              "      border-top-color: var(--fill-color);\n",
              "    }\n",
              "    60% {\n",
              "      border-color: transparent;\n",
              "      border-right-color: var(--fill-color);\n",
              "    }\n",
              "    80% {\n",
              "      border-color: transparent;\n",
              "      border-right-color: var(--fill-color);\n",
              "      border-bottom-color: var(--fill-color);\n",
              "    }\n",
              "    90% {\n",
              "      border-color: transparent;\n",
              "      border-bottom-color: var(--fill-color);\n",
              "    }\n",
              "  }\n",
              "</style>\n",
              "\n",
              "  <script>\n",
              "    async function quickchart(key) {\n",
              "      const quickchartButtonEl =\n",
              "        document.querySelector('#' + key + ' button');\n",
              "      quickchartButtonEl.disabled = true;  // To prevent multiple clicks.\n",
              "      quickchartButtonEl.classList.add('colab-df-spinner');\n",
              "      try {\n",
              "        const charts = await google.colab.kernel.invokeFunction(\n",
              "            'suggestCharts', [key], {});\n",
              "      } catch (error) {\n",
              "        console.error('Error during call to suggestCharts:', error);\n",
              "      }\n",
              "      quickchartButtonEl.classList.remove('colab-df-spinner');\n",
              "      quickchartButtonEl.classList.add('colab-df-quickchart-complete');\n",
              "    }\n",
              "    (() => {\n",
              "      let quickchartButtonEl =\n",
              "        document.querySelector('#df-e7e08e32-b02b-4d7b-ad41-38ba5cf2f89b button');\n",
              "      quickchartButtonEl.style.display =\n",
              "        google.colab.kernel.accessAllowed ? 'block' : 'none';\n",
              "    })();\n",
              "  </script>\n",
              "</div>\n",
              "    </div>\n",
              "  </div>\n"
            ],
            "application/vnd.google.colaboratory.intrinsic+json": {
              "type": "dataframe",
              "summary": "{\n  \"name\": \"display(merged_tatiana\",\n  \"rows\": 3,\n  \"fields\": [\n    {\n      \"column\": \"Treatment Group\",\n      \"properties\": {\n        \"dtype\": \"number\",\n        \"std\": 1.0,\n        \"min\": 1.0,\n        \"max\": 3.0,\n        \"num_unique_values\": 3,\n        \"samples\": [\n          1.0,\n          2.0,\n          3.0\n        ],\n        \"semantic_type\": \"\",\n        \"description\": \"\"\n      }\n    },\n    {\n      \"column\": \"Total Transactions (past)\",\n      \"properties\": {\n        \"dtype\": \"number\",\n        \"std\": 0.02135760474141916,\n        \"min\": 0.812015503875969,\n        \"max\": 0.8546511627906976,\n        \"num_unique_values\": 3,\n        \"samples\": [\n          0.8546511627906976,\n          0.812015503875969,\n          0.8355899419729207\n        ],\n        \"semantic_type\": \"\",\n        \"description\": \"\"\n      }\n    },\n    {\n      \"column\": \"Net Sales (past)\",\n      \"properties\": {\n        \"dtype\": \"number\",\n        \"std\": 2057.6663661255466,\n        \"min\": 89262.89361702128,\n        \"max\": 92977.2621511628,\n        \"num_unique_values\": 3,\n        \"samples\": [\n          92977.2621511628,\n          89585.61627906977,\n          89262.89361702128\n        ],\n        \"semantic_type\": \"\",\n        \"description\": \"\"\n      }\n    },\n    {\n      \"column\": \"Total Transactions (post)\",\n      \"properties\": {\n        \"dtype\": \"number\",\n        \"std\": 0.004458269812913758,\n        \"min\": 0.007751937984496124,\n        \"max\": 0.015473887814313346,\n        \"num_unique_values\": 2,\n        \"samples\": [\n          0.015473887814313346,\n          0.007751937984496124\n        ],\n        \"semantic_type\": \"\",\n        \"description\": \"\"\n      }\n    },\n    {\n      \"column\": \"Quantity (post)\",\n      \"properties\": {\n        \"dtype\": \"number\",\n        \"std\": 0.003876055997523029,\n        \"min\": 0.01937984496124031,\n        \"max\": 0.027131782945736434,\n        \"num_unique_values\": 3,\n        \"samples\": [\n          0.027131782945736434,\n          0.01937984496124031\n        ],\n        \"semantic_type\": \"\",\n        \"description\": \"\"\n      }\n    },\n    {\n      \"column\": \"Net Sales (post)\",\n      \"properties\": {\n        \"dtype\": \"number\",\n        \"std\": 398.19619076477653,\n        \"min\": 1147.2868217054263,\n        \"max\": 1928.4874274661508,\n        \"num_unique_values\": 3,\n        \"samples\": [\n          1671.9573643410852,\n          1147.2868217054263\n        ],\n        \"semantic_type\": \"\",\n        \"description\": \"\"\n      }\n    },\n    {\n      \"column\": \"Total Conversions (post)\",\n      \"properties\": {\n        \"dtype\": \"number\",\n        \"std\": 0.0,\n        \"min\": 0.0,\n        \"max\": 0.0,\n        \"num_unique_values\": 1,\n        \"samples\": [\n          0.0\n        ],\n        \"semantic_type\": \"\",\n        \"description\": \"\"\n      }\n    },\n    {\n      \"column\": \"Purchase Propensity (post)\",\n      \"properties\": {\n        \"dtype\": \"number\",\n        \"std\": 0.004019532114849547,\n        \"min\": 0.005813953488372093,\n        \"max\": 0.013539651837524178,\n        \"num_unique_values\": 3,\n        \"samples\": [\n          0.007751937984496124\n        ],\n        \"semantic_type\": \"\",\n        \"description\": \"\"\n      }\n    }\n  ]\n}"
            }
          },
          "metadata": {}
        },
        {
          "output_type": "stream",
          "name": "stdout",
          "text": [
            "Mean Outcome Values by Treatment Arm (Without Tatiana)\n"
          ]
        },
        {
          "output_type": "stream",
          "name": "stderr",
          "text": [
            "<ipython-input-1-bd5443283373>:32: FutureWarning: The default value of numeric_only in DataFrameGroupBy.mean is deprecated. In a future version, numeric_only will default to False. Either specify numeric_only or select only columns which should be valid for the function.\n",
            "  display(merged_tatiana.groupby('Treatment Group').agg(\"mean\"))\n"
          ]
        },
        {
          "output_type": "display_data",
          "data": {
            "text/plain": [
              "                 Total Transactions (past)  Net Sales (past)  \\\n",
              "Treatment Group                                                \n",
              "1.0                               0.852427      92429.645184   \n",
              "2.0                               0.812016      89585.616279   \n",
              "3.0                               0.835590      89262.893617   \n",
              "\n",
              "                 Total Transactions (post)  Quantity (post)  Net Sales (post)  \\\n",
              "Treatment Group                                                                 \n",
              "1.0                               0.005825         0.009709        366.466019   \n",
              "2.0                               0.007752         0.019380       1147.286822   \n",
              "3.0                               0.015474         0.023211       1928.487427   \n",
              "\n",
              "                 Total Conversions (post)  Purchase Propensity (post)  \n",
              "Treatment Group                                                        \n",
              "1.0                                   0.0                    0.005825  \n",
              "2.0                                   0.0                    0.005814  \n",
              "3.0                                   0.0                    0.013540  "
            ],
            "text/html": [
              "\n",
              "  <div id=\"df-3d75c68d-e2d2-4500-983f-acbf05fd2232\" class=\"colab-df-container\">\n",
              "    <div>\n",
              "<style scoped>\n",
              "    .dataframe tbody tr th:only-of-type {\n",
              "        vertical-align: middle;\n",
              "    }\n",
              "\n",
              "    .dataframe tbody tr th {\n",
              "        vertical-align: top;\n",
              "    }\n",
              "\n",
              "    .dataframe thead th {\n",
              "        text-align: right;\n",
              "    }\n",
              "</style>\n",
              "<table border=\"1\" class=\"dataframe\">\n",
              "  <thead>\n",
              "    <tr style=\"text-align: right;\">\n",
              "      <th></th>\n",
              "      <th>Total Transactions (past)</th>\n",
              "      <th>Net Sales (past)</th>\n",
              "      <th>Total Transactions (post)</th>\n",
              "      <th>Quantity (post)</th>\n",
              "      <th>Net Sales (post)</th>\n",
              "      <th>Total Conversions (post)</th>\n",
              "      <th>Purchase Propensity (post)</th>\n",
              "    </tr>\n",
              "    <tr>\n",
              "      <th>Treatment Group</th>\n",
              "      <th></th>\n",
              "      <th></th>\n",
              "      <th></th>\n",
              "      <th></th>\n",
              "      <th></th>\n",
              "      <th></th>\n",
              "      <th></th>\n",
              "    </tr>\n",
              "  </thead>\n",
              "  <tbody>\n",
              "    <tr>\n",
              "      <th>1.0</th>\n",
              "      <td>0.852427</td>\n",
              "      <td>92429.645184</td>\n",
              "      <td>0.005825</td>\n",
              "      <td>0.009709</td>\n",
              "      <td>366.466019</td>\n",
              "      <td>0.0</td>\n",
              "      <td>0.005825</td>\n",
              "    </tr>\n",
              "    <tr>\n",
              "      <th>2.0</th>\n",
              "      <td>0.812016</td>\n",
              "      <td>89585.616279</td>\n",
              "      <td>0.007752</td>\n",
              "      <td>0.019380</td>\n",
              "      <td>1147.286822</td>\n",
              "      <td>0.0</td>\n",
              "      <td>0.005814</td>\n",
              "    </tr>\n",
              "    <tr>\n",
              "      <th>3.0</th>\n",
              "      <td>0.835590</td>\n",
              "      <td>89262.893617</td>\n",
              "      <td>0.015474</td>\n",
              "      <td>0.023211</td>\n",
              "      <td>1928.487427</td>\n",
              "      <td>0.0</td>\n",
              "      <td>0.013540</td>\n",
              "    </tr>\n",
              "  </tbody>\n",
              "</table>\n",
              "</div>\n",
              "    <div class=\"colab-df-buttons\">\n",
              "\n",
              "  <div class=\"colab-df-container\">\n",
              "    <button class=\"colab-df-convert\" onclick=\"convertToInteractive('df-3d75c68d-e2d2-4500-983f-acbf05fd2232')\"\n",
              "            title=\"Convert this dataframe to an interactive table.\"\n",
              "            style=\"display:none;\">\n",
              "\n",
              "  <svg xmlns=\"http://www.w3.org/2000/svg\" height=\"24px\" viewBox=\"0 -960 960 960\">\n",
              "    <path d=\"M120-120v-720h720v720H120Zm60-500h600v-160H180v160Zm220 220h160v-160H400v160Zm0 220h160v-160H400v160ZM180-400h160v-160H180v160Zm440 0h160v-160H620v160ZM180-180h160v-160H180v160Zm440 0h160v-160H620v160Z\"/>\n",
              "  </svg>\n",
              "    </button>\n",
              "\n",
              "  <style>\n",
              "    .colab-df-container {\n",
              "      display:flex;\n",
              "      gap: 12px;\n",
              "    }\n",
              "\n",
              "    .colab-df-convert {\n",
              "      background-color: #E8F0FE;\n",
              "      border: none;\n",
              "      border-radius: 50%;\n",
              "      cursor: pointer;\n",
              "      display: none;\n",
              "      fill: #1967D2;\n",
              "      height: 32px;\n",
              "      padding: 0 0 0 0;\n",
              "      width: 32px;\n",
              "    }\n",
              "\n",
              "    .colab-df-convert:hover {\n",
              "      background-color: #E2EBFA;\n",
              "      box-shadow: 0px 1px 2px rgba(60, 64, 67, 0.3), 0px 1px 3px 1px rgba(60, 64, 67, 0.15);\n",
              "      fill: #174EA6;\n",
              "    }\n",
              "\n",
              "    .colab-df-buttons div {\n",
              "      margin-bottom: 4px;\n",
              "    }\n",
              "\n",
              "    [theme=dark] .colab-df-convert {\n",
              "      background-color: #3B4455;\n",
              "      fill: #D2E3FC;\n",
              "    }\n",
              "\n",
              "    [theme=dark] .colab-df-convert:hover {\n",
              "      background-color: #434B5C;\n",
              "      box-shadow: 0px 1px 3px 1px rgba(0, 0, 0, 0.15);\n",
              "      filter: drop-shadow(0px 1px 2px rgba(0, 0, 0, 0.3));\n",
              "      fill: #FFFFFF;\n",
              "    }\n",
              "  </style>\n",
              "\n",
              "    <script>\n",
              "      const buttonEl =\n",
              "        document.querySelector('#df-3d75c68d-e2d2-4500-983f-acbf05fd2232 button.colab-df-convert');\n",
              "      buttonEl.style.display =\n",
              "        google.colab.kernel.accessAllowed ? 'block' : 'none';\n",
              "\n",
              "      async function convertToInteractive(key) {\n",
              "        const element = document.querySelector('#df-3d75c68d-e2d2-4500-983f-acbf05fd2232');\n",
              "        const dataTable =\n",
              "          await google.colab.kernel.invokeFunction('convertToInteractive',\n",
              "                                                    [key], {});\n",
              "        if (!dataTable) return;\n",
              "\n",
              "        const docLinkHtml = 'Like what you see? Visit the ' +\n",
              "          '<a target=\"_blank\" href=https://colab.research.google.com/notebooks/data_table.ipynb>data table notebook</a>'\n",
              "          + ' to learn more about interactive tables.';\n",
              "        element.innerHTML = '';\n",
              "        dataTable['output_type'] = 'display_data';\n",
              "        await google.colab.output.renderOutput(dataTable, element);\n",
              "        const docLink = document.createElement('div');\n",
              "        docLink.innerHTML = docLinkHtml;\n",
              "        element.appendChild(docLink);\n",
              "      }\n",
              "    </script>\n",
              "  </div>\n",
              "\n",
              "\n",
              "<div id=\"df-91ce37e9-f964-484a-b7da-d7953360bbaa\">\n",
              "  <button class=\"colab-df-quickchart\" onclick=\"quickchart('df-91ce37e9-f964-484a-b7da-d7953360bbaa')\"\n",
              "            title=\"Suggest charts\"\n",
              "            style=\"display:none;\">\n",
              "\n",
              "<svg xmlns=\"http://www.w3.org/2000/svg\" height=\"24px\"viewBox=\"0 0 24 24\"\n",
              "     width=\"24px\">\n",
              "    <g>\n",
              "        <path d=\"M19 3H5c-1.1 0-2 .9-2 2v14c0 1.1.9 2 2 2h14c1.1 0 2-.9 2-2V5c0-1.1-.9-2-2-2zM9 17H7v-7h2v7zm4 0h-2V7h2v10zm4 0h-2v-4h2v4z\"/>\n",
              "    </g>\n",
              "</svg>\n",
              "  </button>\n",
              "\n",
              "<style>\n",
              "  .colab-df-quickchart {\n",
              "      --bg-color: #E8F0FE;\n",
              "      --fill-color: #1967D2;\n",
              "      --hover-bg-color: #E2EBFA;\n",
              "      --hover-fill-color: #174EA6;\n",
              "      --disabled-fill-color: #AAA;\n",
              "      --disabled-bg-color: #DDD;\n",
              "  }\n",
              "\n",
              "  [theme=dark] .colab-df-quickchart {\n",
              "      --bg-color: #3B4455;\n",
              "      --fill-color: #D2E3FC;\n",
              "      --hover-bg-color: #434B5C;\n",
              "      --hover-fill-color: #FFFFFF;\n",
              "      --disabled-bg-color: #3B4455;\n",
              "      --disabled-fill-color: #666;\n",
              "  }\n",
              "\n",
              "  .colab-df-quickchart {\n",
              "    background-color: var(--bg-color);\n",
              "    border: none;\n",
              "    border-radius: 50%;\n",
              "    cursor: pointer;\n",
              "    display: none;\n",
              "    fill: var(--fill-color);\n",
              "    height: 32px;\n",
              "    padding: 0;\n",
              "    width: 32px;\n",
              "  }\n",
              "\n",
              "  .colab-df-quickchart:hover {\n",
              "    background-color: var(--hover-bg-color);\n",
              "    box-shadow: 0 1px 2px rgba(60, 64, 67, 0.3), 0 1px 3px 1px rgba(60, 64, 67, 0.15);\n",
              "    fill: var(--button-hover-fill-color);\n",
              "  }\n",
              "\n",
              "  .colab-df-quickchart-complete:disabled,\n",
              "  .colab-df-quickchart-complete:disabled:hover {\n",
              "    background-color: var(--disabled-bg-color);\n",
              "    fill: var(--disabled-fill-color);\n",
              "    box-shadow: none;\n",
              "  }\n",
              "\n",
              "  .colab-df-spinner {\n",
              "    border: 2px solid var(--fill-color);\n",
              "    border-color: transparent;\n",
              "    border-bottom-color: var(--fill-color);\n",
              "    animation:\n",
              "      spin 1s steps(1) infinite;\n",
              "  }\n",
              "\n",
              "  @keyframes spin {\n",
              "    0% {\n",
              "      border-color: transparent;\n",
              "      border-bottom-color: var(--fill-color);\n",
              "      border-left-color: var(--fill-color);\n",
              "    }\n",
              "    20% {\n",
              "      border-color: transparent;\n",
              "      border-left-color: var(--fill-color);\n",
              "      border-top-color: var(--fill-color);\n",
              "    }\n",
              "    30% {\n",
              "      border-color: transparent;\n",
              "      border-left-color: var(--fill-color);\n",
              "      border-top-color: var(--fill-color);\n",
              "      border-right-color: var(--fill-color);\n",
              "    }\n",
              "    40% {\n",
              "      border-color: transparent;\n",
              "      border-right-color: var(--fill-color);\n",
              "      border-top-color: var(--fill-color);\n",
              "    }\n",
              "    60% {\n",
              "      border-color: transparent;\n",
              "      border-right-color: var(--fill-color);\n",
              "    }\n",
              "    80% {\n",
              "      border-color: transparent;\n",
              "      border-right-color: var(--fill-color);\n",
              "      border-bottom-color: var(--fill-color);\n",
              "    }\n",
              "    90% {\n",
              "      border-color: transparent;\n",
              "      border-bottom-color: var(--fill-color);\n",
              "    }\n",
              "  }\n",
              "</style>\n",
              "\n",
              "  <script>\n",
              "    async function quickchart(key) {\n",
              "      const quickchartButtonEl =\n",
              "        document.querySelector('#' + key + ' button');\n",
              "      quickchartButtonEl.disabled = true;  // To prevent multiple clicks.\n",
              "      quickchartButtonEl.classList.add('colab-df-spinner');\n",
              "      try {\n",
              "        const charts = await google.colab.kernel.invokeFunction(\n",
              "            'suggestCharts', [key], {});\n",
              "      } catch (error) {\n",
              "        console.error('Error during call to suggestCharts:', error);\n",
              "      }\n",
              "      quickchartButtonEl.classList.remove('colab-df-spinner');\n",
              "      quickchartButtonEl.classList.add('colab-df-quickchart-complete');\n",
              "    }\n",
              "    (() => {\n",
              "      let quickchartButtonEl =\n",
              "        document.querySelector('#df-91ce37e9-f964-484a-b7da-d7953360bbaa button');\n",
              "      quickchartButtonEl.style.display =\n",
              "        google.colab.kernel.accessAllowed ? 'block' : 'none';\n",
              "    })();\n",
              "  </script>\n",
              "</div>\n",
              "    </div>\n",
              "  </div>\n"
            ],
            "application/vnd.google.colaboratory.intrinsic+json": {
              "type": "dataframe",
              "summary": "{\n  \"name\": \"display(merged_tatiana\",\n  \"rows\": 3,\n  \"fields\": [\n    {\n      \"column\": \"Treatment Group\",\n      \"properties\": {\n        \"dtype\": \"number\",\n        \"std\": 1.0,\n        \"min\": 1.0,\n        \"max\": 3.0,\n        \"num_unique_values\": 3,\n        \"samples\": [\n          1.0,\n          2.0,\n          3.0\n        ],\n        \"semantic_type\": \"\",\n        \"description\": \"\"\n      }\n    },\n    {\n      \"column\": \"Total Transactions (past)\",\n      \"properties\": {\n        \"dtype\": \"number\",\n        \"std\": 0.020299223279355103,\n        \"min\": 0.812015503875969,\n        \"max\": 0.8524271844660194,\n        \"num_unique_values\": 3,\n        \"samples\": [\n          0.8524271844660194,\n          0.812015503875969,\n          0.8355899419729207\n        ],\n        \"semantic_type\": \"\",\n        \"description\": \"\"\n      }\n    },\n    {\n      \"column\": \"Net Sales (past)\",\n      \"properties\": {\n        \"dtype\": \"number\",\n        \"std\": 1742.6496024369867,\n        \"min\": 89262.89361702128,\n        \"max\": 92429.64518446602,\n        \"num_unique_values\": 3,\n        \"samples\": [\n          92429.64518446602,\n          89585.61627906977,\n          89262.89361702128\n        ],\n        \"semantic_type\": \"\",\n        \"description\": \"\"\n      }\n    },\n    {\n      \"column\": \"Total Transactions (post)\",\n      \"properties\": {\n        \"dtype\": \"number\",\n        \"std\": 0.005106156676151272,\n        \"min\": 0.005825242718446602,\n        \"max\": 0.015473887814313346,\n        \"num_unique_values\": 3,\n        \"samples\": [\n          0.005825242718446602,\n          0.007751937984496124,\n          0.015473887814313346\n        ],\n        \"semantic_type\": \"\",\n        \"description\": \"\"\n      }\n    },\n    {\n      \"column\": \"Quantity (post)\",\n      \"properties\": {\n        \"dtype\": \"number\",\n        \"std\": 0.006958367990839964,\n        \"min\": 0.009708737864077669,\n        \"max\": 0.02321083172147002,\n        \"num_unique_values\": 3,\n        \"samples\": [\n          0.009708737864077669,\n          0.01937984496124031,\n          0.02321083172147002\n        ],\n        \"semantic_type\": \"\",\n        \"description\": \"\"\n      }\n    },\n    {\n      \"column\": \"Net Sales (post)\",\n      \"properties\": {\n        \"dtype\": \"number\",\n        \"std\": 781.0107117200641,\n        \"min\": 366.4660194174757,\n        \"max\": 1928.4874274661508,\n        \"num_unique_values\": 3,\n        \"samples\": [\n          366.4660194174757,\n          1147.2868217054263,\n          1928.4874274661508\n        ],\n        \"semantic_type\": \"\",\n        \"description\": \"\"\n      }\n    },\n    {\n      \"column\": \"Total Conversions (post)\",\n      \"properties\": {\n        \"dtype\": \"number\",\n        \"std\": 0.0,\n        \"min\": 0.0,\n        \"max\": 0.0,\n        \"num_unique_values\": 1,\n        \"samples\": [\n          0.0\n        ],\n        \"semantic_type\": \"\",\n        \"description\": \"\"\n      }\n    },\n    {\n      \"column\": \"Purchase Propensity (post)\",\n      \"properties\": {\n        \"dtype\": \"number\",\n        \"std\": 0.004457178675749085,\n        \"min\": 0.005813953488372093,\n        \"max\": 0.013539651837524178,\n        \"num_unique_values\": 3,\n        \"samples\": [\n          0.005825242718446602\n        ],\n        \"semantic_type\": \"\",\n        \"description\": \"\"\n      }\n    }\n  ]\n}"
            }
          },
          "metadata": {}
        }
      ]
    },
    {
      "cell_type": "markdown",
      "source": [
        "### **EDA**"
      ],
      "metadata": {
        "id": "AN7LD7_xLsWR"
      }
    },
    {
      "cell_type": "code",
      "source": [
        "import matplotlib.pyplot as plt\n",
        "import pandas as pd\n",
        "\n",
        "# Assuming 'merged' DataFrame is already loaded with your data\n",
        "\n",
        "# Count the frequency of unique categorical values in the 'Total Transactions (post)' column\n",
        "value_counts = merged['Total Transactions (post)'].value_counts()\n",
        "\n",
        "# Sort the value_counts Series by index in ascending order\n",
        "value_counts_sorted = value_counts.sort_index()\n",
        "\n",
        "# Remove the value '0' from the index\n",
        "value_counts_sorted = value_counts_sorted[value_counts_sorted.index != 0]\n",
        "\n",
        "# Plotting the distribution of unique categorical values\n",
        "plt.figure(figsize=(10, 6))\n",
        "bars = plt.bar(value_counts_sorted.index.astype(str), value_counts_sorted.values, color='skyblue')\n",
        "\n",
        "# Adding numbers on top of each bar\n",
        "for bar in bars:\n",
        "    yval = bar.get_height()\n",
        "    plt.text(bar.get_x() + bar.get_width()/2, yval, int(yval), va='bottom', ha='center')\n",
        "\n",
        "plt.title('Distribution of Unique Categorical Values from Total Transactions (post)')\n",
        "plt.xlabel('Total Transactions (post)')\n",
        "plt.ylabel('Frequency')\n",
        "plt.xticks(rotation=45)\n",
        "plt.tight_layout()\n",
        "plt.show()\n"
      ],
      "metadata": {
        "colab": {
          "base_uri": "https://localhost:8080/",
          "height": 607
        },
        "id": "B-dGhPqrG9lD",
        "outputId": "86d19957-3f5c-4b9d-bc0c-9c390f5848c0"
      },
      "execution_count": 2,
      "outputs": [
        {
          "output_type": "display_data",
          "data": {
            "text/plain": [
              "<Figure size 1000x600 with 1 Axes>"
            ],
            "image/png": "[encoded data removed]"
          },
          "metadata": {}
        }
      ]
    },
    {
      "cell_type": "code",
      "source": [
        "import matplotlib.pyplot as plt\n",
        "import pandas as pd\n",
        "\n",
        "# Filter only members who made transactons\n",
        "merged_1 = merged[merged['Purchase Propensity (post)'] > 0]\n",
        "merged_1['Treatment Group'] = merged_1['Treatment Group'].astype('str').map({'1.0':'Control (No Ad)', '2.0':'Treatment Arm 1 - Standard Ad','3.0':'Treatment Arm 2 - Nudge  Ad' })\n",
        "merged_df = merged_1.groupby('Treatment Group').agg({'Total Transactions (post)':'sum'}).reset_index()\n",
        "# Plotting the distribution of unique categorical values\n",
        "plt.figure(figsize=(10, 6))\n",
        "bars = plt.bar(merged_df['Treatment Group'],merged_df['Total Transactions (post)'], color='skyblue')\n",
        "\n",
        "plt.title('Distribution of Transactions by Experiment Arm')\n",
        "plt.ylabel('Total Transactions')\n",
        "\n",
        "plt.tight_layout()\n",
        "plt.show()\n"
      ],
      "metadata": {
        "colab": {
          "base_uri": "https://localhost:8080/",
          "height": 711
        },
        "outputId": "9119ec8b-2534-43ec-bcfc-fdea9585acfc",
        "id": "t9N5T5hw74J0"
      },
      "execution_count": 3,
      "outputs": [
        {
          "output_type": "stream",
          "name": "stderr",
          "text": [
            "<ipython-input-3-da12ca1fca3d>:6: SettingWithCopyWarning: \n",
            "A value is trying to be set on a copy of a slice from a DataFrame.\n",
            "Try using .loc[row_indexer,col_indexer] = value instead\n",
            "\n",
            "See the caveats in the documentation: https://pandas.pydata.org/pandas-docs/stable/user_guide/indexing.html#returning-a-view-versus-a-copy\n",
            "  merged_1['Treatment Group'] = merged_1['Treatment Group'].astype('str').map({'1.0':'Control (No Ad)', '2.0':'Treatment Arm 1 - Standard Ad','3.0':'Treatment Arm 2 - Nudge  Ad' })\n"
          ]
        },
        {
          "output_type": "display_data",
          "data": {
            "text/plain": [
              "<Figure size 1000x600 with 1 Axes>"
            ],
            "image/png": "[encoded data removed]"
          },
          "metadata": {}
        }
      ]
    },
    {
      "cell_type": "code",
      "source": [
        "import matplotlib.pyplot as plt\n",
        "import pandas as pd\n",
        "\n",
        "# Assuming 'merged' DataFrame is already loaded with your data\n",
        "\n",
        "# Count the frequency of unique categorical values in the 'Total Transactions (post)' column\n",
        "value_counts = merged['Quantity (post)'].value_counts()\n",
        "\n",
        "# Sort the value_counts Series by index in ascending order\n",
        "value_counts_sorted = value_counts.sort_index()\n",
        "\n",
        "# Remove the value '0' from the index\n",
        "value_counts_sorted = value_counts_sorted[value_counts_sorted.index != 0]\n",
        "\n",
        "# Plotting the distribution of unique categorical values\n",
        "plt.figure(figsize=(10, 6))\n",
        "bars = plt.bar(value_counts_sorted.index.astype(str), value_counts_sorted.values, color='skyblue')\n",
        "\n",
        "# Adding numbers on top of each bar\n",
        "for bar in bars:\n",
        "    yval = bar.get_height()\n",
        "    plt.text(bar.get_x() + bar.get_width()/2, yval, int(yval), va='bottom', ha='center')\n",
        "\n",
        "plt.title('Distribution of Values from Quantity (post)')\n",
        "plt.xlabel('Quantity (post)')\n",
        "plt.ylabel('Frequency')\n",
        "plt.xticks(rotation=45)\n",
        "plt.tight_layout()\n",
        "plt.show()\n"
      ],
      "metadata": {
        "colab": {
          "base_uri": "https://localhost:8080/",
          "height": 607
        },
        "id": "C3nP_LmrHl6f",
        "outputId": "c4a37070-e7ea-4128-9437-cdffbbbb9d02"
      },
      "execution_count": 4,
      "outputs": [
        {
          "output_type": "display_data",
          "data": {
            "text/plain": [
              "<Figure size 1000x600 with 1 Axes>"
            ],
            "image/png": "[encoded data removed]"
          },
          "metadata": {}
        }
      ]
    },
    {
      "cell_type": "code",
      "source": [
        "import matplotlib.pyplot as plt\n",
        "import pandas as pd\n",
        "\n",
        "# Assuming 'merged' DataFrame is already loaded with your data\n",
        "\n",
        "# Selecting data from the 'Net Sales (post)' column and removing the value '0'\n",
        "net_sales_post = merged['Net Sales (post)'][merged['Net Sales (post)'] != 0]\n",
        "\n",
        "# Plotting the histogram of 'Net Sales (post)'\n",
        "plt.figure(figsize=(10, 6))\n",
        "hist, bins, _ = plt.hist(net_sales_post/450, bins=6, color='skyblue', edgecolor='black')\n",
        "\n",
        "# Adding data labels on top of each bar\n",
        "for i in range(len(hist)):\n",
        "    plt.text(bins[i] + (bins[i + 1] - bins[i]) / 2, hist[i], int(hist[i]),\n",
        "             ha='center', va='bottom')\n",
        "\n",
        "# Adding labels and title\n",
        "plt.title('Distribution of Values from Net Sales (post)')\n",
        "plt.xlabel('Net Sales (post) in USD')\n",
        "plt.ylabel('Frequency')\n",
        "plt.xticks(rotation=45)\n",
        "\n",
        "# Displaying the histogram\n",
        "plt.tight_layout()\n",
        "plt.show()\n"
      ],
      "metadata": {
        "colab": {
          "base_uri": "https://localhost:8080/",
          "height": 607
        },
        "id": "bp3OZP63IHjg",
        "outputId": "860e7e14-7167-458a-def9-0f95b5fdd07b"
      },
      "execution_count": 5,
      "outputs": [
        {
          "output_type": "display_data",
          "data": {
            "text/plain": [
              "<Figure size 1000x600 with 1 Axes>"
            ],
            "image/png": "[encoded data removed]"
          },
          "metadata": {}
        }
      ]
    },
    {
      "cell_type": "code",
      "source": [
        "import matplotlib.pyplot as plt\n",
        "import pandas as pd\n",
        "\n",
        "# Assuming 'merged' DataFrame is already loaded with your data\n",
        "\n",
        "# Count the frequency of unique categorical values in the 'Total Transactions (post)' column\n",
        "value_counts = merged['Purchase Propensity (post)'].value_counts()\n",
        "\n",
        "# Sort the value_counts Series by index in ascending order\n",
        "value_counts_sorted = value_counts.sort_index()\n",
        "\n",
        "# Remove the value '0' from the index\n",
        "value_counts_sorted = value_counts_sorted[value_counts_sorted.index]\n",
        "\n",
        "# Plotting the distribution of unique categorical values\n",
        "plt.figure(figsize=(10, 6))\n",
        "bars = plt.bar(value_counts_sorted.index.astype(str), value_counts_sorted.values, color='skyblue')\n",
        "\n",
        "# Adding numbers on top of each bar\n",
        "for bar in bars:\n",
        "    yval = bar.get_height()\n",
        "    plt.text(bar.get_x() + bar.get_width()/2, yval, int(yval), va='bottom', ha='center')\n",
        "\n",
        "plt.title('Distribution of Values from Purchase Propensity (post)')\n",
        "plt.xlabel('Purchase Propensity (post)')\n",
        "plt.ylabel('Frequency')\n",
        "plt.xticks(rotation=45)\n",
        "plt.tight_layout()\n",
        "plt.show()\n"
      ],
      "metadata": {
        "colab": {
          "base_uri": "https://localhost:8080/",
          "height": 607
        },
        "id": "umnqp6DdKpvu",
        "outputId": "d6143692-95d5-4e44-a66e-8a0b2f41b40b"
      },
      "execution_count": 6,
      "outputs": [
        {
          "output_type": "display_data",
          "data": {
            "text/plain": [
              "<Figure size 1000x600 with 1 Axes>"
            ],
            "image/png": "[encoded data removed]"
          },
          "metadata": {}
        }
      ]
    },
    {
      "cell_type": "markdown",
      "source": [
        "### **Proportions Test:**\n",
        "We applied a statistical test to check if the proportion of randomization are as intended. By calculating and comparing the proportions of each treatment groups and Control group against their observed proportions within the total sample, we can verify the effectiveness of the randomization process."
      ],
      "metadata": {
        "id": "TfS-JQQuRmQA"
      }
    },
    {
      "cell_type": "code",
      "source": [
        "from statsmodels.stats.proportion import proportions_ztest\n",
        "import numpy as np\n",
        "\n",
        "# Total Participants\n",
        "n = len(merged['Treatment Group'])\n",
        "\n",
        "# Arms\n",
        "n_treated = np.sum(merged['Treatment Group'] == 1) # Control Group\n",
        "_, p_val = proportions_ztest(n_treated, n, value = n_treated/n)\n",
        "print(f\"The p-value for the proportions test is {p_val:.2} so we fail to reject the null hypothesis of proper randomization\")\n",
        "\n",
        "n_treated = np.sum(merged['Treatment Group'] == 2) # Treatment 1 - Standard Ad\n",
        "_, p_val = proportions_ztest(n_treated, n, value = n_treated/n)\n",
        "print(f\"The p-value for the proportions test is {p_val:.2} so we fail to reject the null hypothesis of proper randomization\")\n",
        "\n",
        "n_treated = np.sum(merged['Treatment Group'] == 3) # Treatment 2 - Nudge Ad\n",
        "_, p_val = proportions_ztest(n_treated, n, value = n_treated/n)\n",
        "print(f\"The p-value for the proportions test is {p_val:.2} so we fail to reject the null hypothesis of proper randomization\")"
      ],
      "metadata": {
        "id": "DWzHiK-tRg8V",
        "colab": {
          "base_uri": "https://localhost:8080/"
        },
        "outputId": "e513acdc-bb1e-4c4f-eb97-2972289ab2f1"
      },
      "execution_count": 8,
      "outputs": [
        {
          "output_type": "stream",
          "name": "stdout",
          "text": [
            "The p-value for the proportions test is 1.0 so we fail to reject the null hypothesis of proper randomization\n",
            "The p-value for the proportions test is 1.0 so we fail to reject the null hypothesis of proper randomization\n",
            "The p-value for the proportions test is 1.0 so we fail to reject the null hypothesis of proper randomization\n"
          ]
        }
      ]
    },
    {
      "cell_type": "markdown",
      "source": [
        "Summary: The result of the proportions z-tests, with a p-value of 1.0, indicate that there is no statistical evidence to reject the null hypothesis, which means that the randomization was done properly.They have been divided into 3 equal arms as intended (516 obs vs 516 obs vs 517 obs)."
      ],
      "metadata": {
        "id": "TOKCX_rLR24-"
      }
    },
    {
      "cell_type": "markdown",
      "source": [
        "### **Balance Checks:**\n",
        "We have two key metrics for which we would like a balance between the 3 arms: Total Transactions (past) and Net Sales (past).\n",
        "\n",
        "By using t-test we will be able to compare the means of Total Transactions and Net Sales between each pair of treatment arms and control group. (Group 1 vs. Group 2, Group 1 vs. Group 3, and Group 2 vs. Group 3). This choice of test will help us to check whether any significant differences exist between groups that could influence the results beyond the treatment effects."
      ],
      "metadata": {
        "id": "C71Q2GmYR_wp"
      }
    },
    {
      "cell_type": "code",
      "source": [
        "from scipy.stats import ttest_ind\n",
        "\n",
        "# Dividing by Arm and by variable\n",
        "group1_transactions = merged[merged['Treatment Group'] == 1]['Total Transactions (past)']\n",
        "group1_sales = merged[merged['Treatment Group'] == 1]['Net Sales (past)']\n",
        "\n",
        "group2_transactions = merged[merged['Treatment Group'] == 2]['Total Transactions (past)']\n",
        "group2_sales = merged[merged['Treatment Group'] == 2]['Net Sales (past)']\n",
        "\n",
        "group3_transactions = merged[merged['Treatment Group'] == 3]['Total Transactions (past)']\n",
        "group3_sales = merged[merged['Treatment Group'] == 3]['Net Sales (past)']\n",
        "\n",
        "# T Tests\n",
        "t_stat_transactions_12, p_val_transactions_12 = ttest_ind(group1_transactions, group2_transactions, equal_var=0)\n",
        "print(f\"Group 1 vs Group 2 - Total Transactions (past): t-stat = {t_stat_transactions_12:.2f}, p-value = {p_val_transactions_12:.3f}\")\n",
        "\n",
        "t_stat_sales_12, p_val_sales_12 = ttest_ind(group1_sales, group2_sales, equal_var=0)\n",
        "print(f\"Group 1 vs Group 2 - Net Sales (past): t-stat = {t_stat_sales_12:.2f}, p-value = {p_val_sales_12:.3f}\")\n",
        "\n",
        "t_stat_transactions_13, p_val_transactions_13 = ttest_ind(group1_transactions, group3_transactions, equal_var=0)\n",
        "print(f\"Group 1 vs Group 3 - Total Transactions (past): t-stat = {t_stat_transactions_13:.2f}, p-value = {p_val_transactions_13:.3f}\")\n",
        "\n",
        "t_stat_sales_13, p_val_sales_13 = ttest_ind(group1_sales, group3_sales, equal_var=0)\n",
        "print(f\"Group 1 vs Group 3 - Net Sales (past): t-stat = {t_stat_sales_13:.2f}, p-value = {p_val_sales_13:.3f}\")\n",
        "\n",
        "t_stat_transactions_23, p_val_transactions_23 = ttest_ind(group2_transactions, group3_transactions, equal_var=0)\n",
        "print(f\"Group 2 vs Group 3 - Total Transactions (past): t-stat = {t_stat_transactions_23:.2f}, p-value = {p_val_transactions_23:.3f}\")\n",
        "\n",
        "t_stat_sales_23, p_val_sales_23 = ttest_ind(group2_sales, group3_sales, equal_var=0)\n",
        "print(f\"Group 2 vs Group 3 - Net Sales (past): t-stat = {t_stat_sales_23:.2f}, p-value = {p_val_sales_23:.3f}\")"
      ],
      "metadata": {
        "id": "r_hkYlp7SBYh",
        "colab": {
          "base_uri": "https://localhost:8080/"
        },
        "outputId": "0339ea76-f131-4b77-90cc-38c25a782ab8"
      },
      "execution_count": null,
      "outputs": [
        {
          "output_type": "stream",
          "name": "stdout",
          "text": [
            "Group 1 vs Group 2 - Total Transactions (past): t-stat = 0.65, p-value = 0.513\n",
            "Group 1 vs Group 2 - Net Sales (past): t-stat = 0.34, p-value = 0.737\n",
            "Group 1 vs Group 3 - Total Transactions (past): t-stat = 0.29, p-value = 0.773\n",
            "Group 1 vs Group 3 - Net Sales (past): t-stat = 0.41, p-value = 0.680\n",
            "Group 2 vs Group 3 - Total Transactions (past): t-stat = -0.36, p-value = 0.720\n",
            "Group 2 vs Group 3 - Net Sales (past): t-stat = 0.04, p-value = 0.972\n"
          ]
        }
      ]
    },
    {
      "cell_type": "markdown",
      "source": [
        "Summary: The t-test results for all comparisons between the treatment groups in \"Total Transactions (past)\" and \"Net Sales (past)\" show no statistically significant differences in means.:\n",
        "\n",
        "* All p-values are all above 0.05. this tell us that there is no strong evidence to suggest that the treatment groups differ in terms of past total transactions or net sales.\n",
        "\n",
        "* The t-statistics range from -0.36 to 0.65 for \"Total Transactions (past)\" and from 0.04 to 0.41 for \"Net Sales (past)\", further indicating that the differences between group means are very minimal and not statistically significant.\n",
        "\n",
        "Overall, these findings indicates that the treatment groups are balanced with respect to \"Total Transactions (past)\" and \"Net Sales (past)\" before the treatment application."
      ],
      "metadata": {
        "id": "R0hlK4SzSDgE"
      }
    },
    {
      "cell_type": "markdown",
      "source": [
        "### **Regression Tests**"
      ],
      "metadata": {
        "id": "cocdY2WndrmM"
      }
    },
    {
      "cell_type": "markdown",
      "source": [
        "####**Click Through Rate**"
      ],
      "metadata": {
        "id": "gUEs9JGVNSOt"
      }
    },
    {
      "cell_type": "code",
      "source": [
        "!pip install stargazer"
      ],
      "metadata": {
        "colab": {
          "base_uri": "https://localhost:8080/"
        },
        "id": "_2FqvnWYU_Jn",
        "outputId": "abaeb3a7-3a1b-48e5-b7f0-5c84639a2033"
      },
      "execution_count": 9,
      "outputs": [
        {
          "output_type": "stream",
          "name": "stdout",
          "text": [
            "Collecting stargazer\n",
            "  Downloading stargazer-0.0.6-py3-none-any.whl (11 kB)\n",
            "Installing collected packages: stargazer\n",
            "Successfully installed stargazer-0.0.6\n"
          ]
        }
      ]
    },
    {
      "cell_type": "code",
      "source": [
        "import statsmodels.formula.api as smf\n",
        "from stargazer.stargazer import Stargazer\n",
        "\n",
        "merged_12 = merged.loc[:]\n",
        "merged_12 = merged_12[merged_12 ['Treatment Group'] != 1.0]\n",
        "merged_12['Treatment Group'] = merged_12 ['Treatment Group'] > 2\n",
        "merged_12['click'] = 0\n",
        "merged_12.iloc[0:21,-1] = 1 # 21 clicks,\n",
        "merged_12.iloc[-28:,-1] = 1 # 28 clicks\n",
        "\n",
        "ctr = smf.ols('click ~ Q(\"Treatment Group\")', data= merged_12).fit(cov_type = 'HC1')\n",
        "\n",
        "summary_c1 = Stargazer([ctr])\n",
        "\n",
        "summary_c1.title('Click Rate - Standard Ad vs Nudge Ad')\n",
        "summary_c1.custom_columns(['Click Rate'])\n",
        "summary_c1.significant_digits(2)\n",
        "summary_c1.rename_covariates({'Q(\"Treatment Group\")[T.True]': 'Treatment Effect'})\n",
        "summary_c1.show_confidence_intervals(True)\n",
        "summary_c1.show_degrees_of_freedom(False)\n",
        "summary_c1.show_r2 = False\n",
        "summary_c1.show_adj_r2 = False\n",
        "summary_c1.show_residual_std_err = False\n",
        "summary_c1.show_f_statistic = False\n",
        "summary_c1.show_model_numbers(False)\n",
        "summary_c1\n"
      ],
      "metadata": {
        "id": "eO5Yvt0_pKcJ",
        "colab": {
          "base_uri": "https://localhost:8080/",
          "height": 238
        },
        "outputId": "8c2aa1f7-a044-42b8-fc53-ded342bdcb6b"
      },
      "execution_count": 10,
      "outputs": [
        {
          "output_type": "execute_result",
          "data": {
            "text/plain": [
              "<stargazer.stargazer.Stargazer at 0x7a2b95ab7040>"
            ],
            "text/html": [
              "Click Rate - Standard Ad vs Nudge Ad<br><table style=\"text-align:center\"><tr><td colspan=\"2\" style=\"border-bottom: 1px solid black\"></td></tr>\n",
              "<tr><td style=\"text-align:left\"></td><td colspan=\"1\"><em>Dependent variable: click</em></td></tr><tr><td style=\"text-align:left\"></td><tr><td></td><td colspan=\"1\">Click Rate</td></tr>\n",
              "<tr><td colspan=\"2\" style=\"border-bottom: 1px solid black\"></td></tr>\n",
              "\n",
              "<tr><td style=\"text-align:left\">Intercept</td><td>0.04<sup>***</sup></td></tr>\n",
              "<tr><td style=\"text-align:left\"></td><td>(0.02 , 0.06)</td></tr>\n",
              "<tr><td style=\"text-align:left\">Treatment Effect</td><td>0.01<sup></sup></td></tr>\n",
              "<tr><td style=\"text-align:left\"></td><td>(-0.01 , 0.04)</td></tr>\n",
              "\n",
              "<td colspan=\"2\" style=\"border-bottom: 1px solid black\"></td></tr>\n",
              "<tr><td style=\"text-align: left\">Observations</td><td>1033</td></tr>\n",
              "<tr><td colspan=\"2\" style=\"border-bottom: 1px solid black\"></td></tr><tr><td style=\"text-align: left\">Note:</td><td colspan=\"1\" style=\"text-align: right\"><sup>*</sup>p&lt;0.1; <sup>**</sup>p&lt;0.05; <sup>***</sup>p&lt;0.01</td></tr></table>"
            ]
          },
          "metadata": {},
          "execution_count": 10
        }
      ]
    },
    {
      "cell_type": "markdown",
      "source": [
        "Summary: The nudge treatment does not have a significant effect on the Click Rate vs the Standard Ad."
      ],
      "metadata": {
        "id": "uDEnxQbtOEad"
      }
    },
    {
      "cell_type": "markdown",
      "source": [
        "####**Conversions**"
      ],
      "metadata": {
        "id": "3IHnEvFZPXm0"
      }
    },
    {
      "cell_type": "code",
      "source": [
        "import statsmodels.formula.api as smf\n",
        "from stargazer.stargazer import Stargazer\n",
        "\n",
        "merged_c1 = merged.loc[:]\n",
        "merged_c1 = merged_c1[merged_c1['Treatment Group'] != 3.0]\n",
        "merged_c1['Treatment Group'] = merged_c1['Treatment Group'] >1\n",
        "\n",
        "merged_12 = merged.loc[:]\n",
        "merged_12 = merged_12[merged_12 ['Treatment Group'] != 1.0]\n",
        "merged_12['Treatment Group'] = merged_12 ['Treatment Group'] > 2\n",
        "\n",
        "conversions_c1 = smf.ols('Q(\"Total Conversions (post)\") ~ Q(\"Treatment Group\")', data= merged_c1).fit(cov_type = 'HC1')\n",
        "conversions_12 = smf.ols('Q(\"Total Conversions (post)\") ~ Q(\"Treatment Group\")', data= merged_12).fit(cov_type = 'HC1')\n",
        "\n",
        "summary_c1 = Stargazer([conversions_c1,conversions_12])\n",
        "\n",
        "\n",
        "summary_c1.title('Treatment Effect - Conversions')\n",
        "summary_c1.custom_columns(['Control vs Standard Ad', 'Standard vs Nudge'])\n",
        "summary_c1.significant_digits(2)\n",
        "summary_c1.rename_covariates({'Q(\"Treatment Group\")[T.True]': 'Treatment Effect'})\n",
        "summary_c1.show_confidence_intervals(False)\n",
        "summary_c1.show_degrees_of_freedom(False)\n",
        "summary_c1.show_r2 = False\n",
        "summary_c1.show_adj_r2 = False\n",
        "summary_c1.show_residual_std_err = False\n",
        "summary_c1.show_f_statistic = False\n",
        "summary_c1.show_model_numbers(True)\n",
        "summary_c1"
      ],
      "metadata": {
        "colab": {
          "base_uri": "https://localhost:8080/",
          "height": 467
        },
        "id": "3gDLNiifPVTo",
        "outputId": "a58f168c-7b0d-40dc-be91-7445b61d26c8"
      },
      "execution_count": 11,
      "outputs": [
        {
          "output_type": "stream",
          "name": "stderr",
          "text": [
            "/usr/local/lib/python3.10/dist-packages/statsmodels/regression/linear_model.py:1782: RuntimeWarning: invalid value encountered in scalar divide\n",
            "  return 1 - self.ssr/self.centered_tss\n",
            "/usr/local/lib/python3.10/dist-packages/statsmodels/base/model.py:1896: ValueWarning: covariance of constraints does not have full rank. The number of constraints is 1, but rank is 0\n",
            "  warnings.warn('covariance of constraints does not have full '\n",
            "/usr/local/lib/python3.10/dist-packages/statsmodels/base/model.py:1925: RuntimeWarning: invalid value encountered in divide\n",
            "  F /= J\n",
            "/usr/local/lib/python3.10/dist-packages/statsmodels/regression/linear_model.py:1782: RuntimeWarning: invalid value encountered in scalar divide\n",
            "  return 1 - self.ssr/self.centered_tss\n",
            "/usr/local/lib/python3.10/dist-packages/statsmodels/base/model.py:1896: ValueWarning: covariance of constraints does not have full rank. The number of constraints is 1, but rank is 0\n",
            "  warnings.warn('covariance of constraints does not have full '\n",
            "/usr/local/lib/python3.10/dist-packages/statsmodels/base/model.py:1925: RuntimeWarning: invalid value encountered in divide\n",
            "  F /= J\n"
          ]
        },
        {
          "output_type": "execute_result",
          "data": {
            "text/plain": [
              "<stargazer.stargazer.Stargazer at 0x7a2b8c4bf850>"
            ],
            "text/html": [
              "Treatment Effect - Conversions<br><table style=\"text-align:center\"><tr><td colspan=\"3\" style=\"border-bottom: 1px solid black\"></td></tr>\n",
              "<tr><td style=\"text-align:left\"></td><td colspan=\"2\"><em>Dependent variable: Q(\"Total Conversions (post)\")</em></td></tr><tr><td style=\"text-align:left\"></td><tr><td></td><td colspan=\"1\">Control vs Standard Ad</td><td colspan=\"1\">Standard vs Nudge</td></tr><tr><td style=\"text-align:left\"></td><td>(1)</td><td>(2)</td></tr>\n",
              "<tr><td colspan=\"3\" style=\"border-bottom: 1px solid black\"></td></tr>\n",
              "\n",
              "<tr><td style=\"text-align:left\">Intercept</td><td>0.00<sup>***</sup></td><td>0.00<sup>***</sup></td></tr>\n",
              "<tr><td style=\"text-align:left\"></td><td>(0.00)</td><td>(0.00)</td></tr>\n",
              "<tr><td style=\"text-align:left\">Treatment Effect</td><td>0.00<sup>***</sup></td><td>0.00<sup>***</sup></td></tr>\n",
              "<tr><td style=\"text-align:left\"></td><td>(0.00)</td><td>(0.00)</td></tr>\n",
              "\n",
              "<td colspan=\"3\" style=\"border-bottom: 1px solid black\"></td></tr>\n",
              "<tr><td style=\"text-align: left\">Observations</td><td>1032</td><td>1033</td></tr>\n",
              "<tr><td colspan=\"3\" style=\"border-bottom: 1px solid black\"></td></tr><tr><td style=\"text-align: left\">Note:</td><td colspan=\"2\" style=\"text-align: right\"><sup>*</sup>p&lt;0.1; <sup>**</sup>p&lt;0.05; <sup>***</sup>p&lt;0.01</td></tr></table>"
            ]
          },
          "metadata": {},
          "execution_count": 11
        }
      ]
    },
    {
      "cell_type": "markdown",
      "source": [
        "Summary: Since none of the customers in any of the arms purchased the advertised product, we will drop this outcome from the rest of our analysis."
      ],
      "metadata": {
        "id": "MazusaP9QFc3"
      }
    },
    {
      "cell_type": "markdown",
      "source": [
        "####**Rest of the Outcomes:**"
      ],
      "metadata": {
        "id": "oxiz6L1KQYUF"
      }
    },
    {
      "cell_type": "markdown",
      "source": [
        "Now, let us look at the treatment effect for the control group and treatment arm 1 all the members."
      ],
      "metadata": {
        "id": "eaC-d9HfYT45"
      }
    },
    {
      "cell_type": "code",
      "source": [
        "import statsmodels.formula.api as smf\n",
        "from stargazer.stargazer import Stargazer\n",
        "\n",
        "# for Control group and treatment 1\n",
        "merged_control = merged.loc[:]\n",
        "\n",
        "merged_control = merged_control[merged_control['Treatment Group'] != 3.0]\n",
        "merged_control['Treatment Group'] = merged_control['Treatment Group'] > 1\n",
        "\n",
        "transaction_c1 = smf.ols('Q(\"Total Transactions (post)\") ~ Q(\"Treatment Group\") + Q(\"Total Transactions (past)\") + Q(\"Net Sales (past)\")', data= merged_control).fit(cov_type = 'HC1')\n",
        "quantity_c1 = smf.ols('Q(\"Quantity (post)\") ~ Q(\"Treatment Group\") + Q(\"Total Transactions (past)\") + Q(\"Net Sales (past)\")', data= merged_control).fit(cov_type = 'HC1')\n",
        "sales_c1 = smf.ols('Q(\"Net Sales (post)\") ~ Q(\"Treatment Group\")+ Q(\"Total Transactions (past)\") + Q(\"Net Sales (past)\")', data= merged_control).fit(cov_type = 'HC1')\n",
        "propensity_c1 = smf.ols('Q(\"Purchase Propensity (post)\") ~ Q(\"Treatment Group\")+ Q(\"Total Transactions (past)\") + Q(\"Net Sales (past)\")', data= merged_control).fit(cov_type = 'HC1')\n",
        "summary_c1 = Stargazer([transaction_c1, quantity_c1, sales_c1, propensity_c1])\n",
        "\n",
        "summary_c1.title('Treatment Effects - Control vs Status Quo Ad')\n",
        "summary_c1.custom_columns(['Total Transactions', 'Quantity',\n",
        "                           'Net Sales', 'Purchase Propensity'])\n",
        "summary_c1.significant_digits(2)\n",
        "summary_c1.rename_covariates({'Q(\"Treatment Group\")[T.True]': 'Treatment Effect', 'Q(\"Total Transactions (past)\")': 'Past Transactions', 'Q(\"Net Sales (past)\")':'Past Net Sales'})\n",
        "summary_c1.covariate_order(['Q(\"Treatment Group\")[T.True]','Q(\"Total Transactions (past)\")', 'Q(\"Net Sales (past)\")'])\n",
        "summary_c1.show_confidence_intervals(False)\n",
        "summary_c1.show_degrees_of_freedom(False)\n",
        "summary_c1.show_r2 = False\n",
        "summary_c1.show_adj_r2 = False\n",
        "summary_c1.show_residual_std_err = False\n",
        "summary_c1.show_f_statistic = False\n",
        "summary_c1"
      ],
      "metadata": {
        "id": "L0caCLGu4f2O",
        "colab": {
          "base_uri": "https://localhost:8080/",
          "height": 283
        },
        "outputId": "0f594a9d-2827-4427-e6bb-51654d3c0623"
      },
      "execution_count": 12,
      "outputs": [
        {
          "output_type": "execute_result",
          "data": {
            "text/plain": [
              "<stargazer.stargazer.Stargazer at 0x7a2b86d7a200>"
            ],
            "text/html": [
              "Treatment Effects - Control vs Status Quo Ad<br><table style=\"text-align:center\"><tr><td colspan=\"5\" style=\"border-bottom: 1px solid black\"></td></tr>\n",
              "<tr><td style=\"text-align:left\"></td><tr><td></td><td colspan=\"1\">Total Transactions</td><td colspan=\"1\">Quantity</td><td colspan=\"1\">Net Sales</td><td colspan=\"1\">Purchase Propensity</td></tr><tr><td style=\"text-align:left\"></td><td>(1)</td><td>(2)</td><td>(3)</td><td>(4)</td></tr>\n",
              "<tr><td colspan=\"5\" style=\"border-bottom: 1px solid black\"></td></tr>\n",
              "\n",
              "<tr><td style=\"text-align:left\">Treatment Effect</td><td>0.00<sup></sup></td><td>-0.01<sup></sup></td><td>-494.68<sup></sup></td><td>-0.00<sup></sup></td></tr>\n",
              "<tr><td style=\"text-align:left\"></td><td>(0.01)</td><td>(0.02)</td><td>(1484.17)</td><td>(0.00)</td></tr>\n",
              "<tr><td style=\"text-align:left\">Past Transactions</td><td>0.01<sup></sup></td><td>-0.00<sup></sup></td><td>-370.68<sup></sup></td><td>0.01<sup></sup></td></tr>\n",
              "<tr><td style=\"text-align:left\"></td><td>(0.01)</td><td>(0.02)</td><td>(870.86)</td><td>(0.01)</td></tr>\n",
              "<tr><td style=\"text-align:left\">Past Net Sales</td><td>0.00<sup></sup></td><td>0.00<sup></sup></td><td>0.01<sup></sup></td><td>0.00<sup></sup></td></tr>\n",
              "<tr><td style=\"text-align:left\"></td><td>(0.00)</td><td>(0.00)</td><td>(0.01)</td><td>(0.00)</td></tr>\n",
              "\n",
              "<td colspan=\"5\" style=\"border-bottom: 1px solid black\"></td></tr>\n",
              "<tr><td style=\"text-align: left\">Observations</td><td>1032</td><td>1032</td><td>1032</td><td>1032</td></tr>\n",
              "<tr><td colspan=\"5\" style=\"border-bottom: 1px solid black\"></td></tr><tr><td style=\"text-align: left\">Note:</td><td colspan=\"4\" style=\"text-align: right\"><sup>*</sup>p&lt;0.1; <sup>**</sup>p&lt;0.05; <sup>***</sup>p&lt;0.01</td></tr></table>"
            ]
          },
          "metadata": {},
          "execution_count": 12
        }
      ]
    },
    {
      "cell_type": "markdown",
      "source": [
        "The above table presents treatment effects by comparing the control group to the status quo advertising group across various metrics, including Total Transactions, Quantity, Net Sales, and Purchase Propensity.\n",
        "Treatment effects are expressed in the table, indicating changes in the mentioned metrics due to the advertising treatment. <br>\n",
        "Notably, there is no statistically significant change in Total Transactions, a slight decrease in Quantity, a significant decrease in Net Sales, and no change in Purchase Propensity.\n",
        "\n",
        "The \"Past Transactions\" and \"Past Net Sales\" sections provide a comparison with historical data, showing a slight increase in past transactions (p=0.01) but no significant change in past net sales."
      ],
      "metadata": {
        "id": "W1lx8fluW5oA"
      }
    },
    {
      "cell_type": "markdown",
      "source": [
        "Now,  we will see the treatment effect for control group and treatment arm 1, but excluding Tatiana ( the one outlier in the control group)"
      ],
      "metadata": {
        "id": "QsY1PWrzZI3h"
      }
    },
    {
      "cell_type": "code",
      "source": [
        "# Control vs Treatment 1 - Without Tatiana\n",
        "\n",
        "merged_control = merged_tatiana.loc[:]\n",
        "\n",
        "merged_control = merged_control[merged_control['Treatment Group'] != 3.0]\n",
        "merged_control['Treatment Group'] = merged_control['Treatment Group'] > 1\n",
        "\n",
        "transaction_c1 = smf.ols('Q(\"Total Transactions (post)\") ~ Q(\"Treatment Group\") + Q(\"Total Transactions (past)\") + Q(\"Net Sales (past)\")', data= merged_control).fit(cov_type = 'HC1')\n",
        "quantity_c1 = smf.ols('Q(\"Quantity (post)\") ~ Q(\"Treatment Group\") + Q(\"Total Transactions (past)\") + Q(\"Net Sales (past)\")', data= merged_control).fit(cov_type = 'HC1')\n",
        "sales_c1 = smf.ols('Q(\"Net Sales (post)\") ~ Q(\"Treatment Group\")+ Q(\"Total Transactions (past)\") + Q(\"Net Sales (past)\")', data= merged_control).fit(cov_type = 'HC1')\n",
        "propensity_c1 = smf.ols('Q(\"Purchase Propensity (post)\") ~ Q(\"Treatment Group\")+ Q(\"Total Transactions (past)\") + Q(\"Net Sales (past)\")', data= merged_control).fit(cov_type = 'HC1')\n",
        "summary_c1 = Stargazer([transaction_c1, quantity_c1, sales_c1, propensity_c1])\n",
        "\n",
        "summary_c1.title('Treatment Effects - Control vs Status Quo Ad (Without Tatiana)')\n",
        "summary_c1.custom_columns(['Total Transactions', 'Quantity',\n",
        "                           'Net Sales', 'Purchase Propensity'])\n",
        "summary_c1.significant_digits(2)\n",
        "summary_c1.rename_covariates({'Q(\"Treatment Group\")[T.True]': 'Treatment Effect', 'Q(\"Total Transactions (past)\")': 'Past Transactions', 'Q(\"Net Sales (past)\")':'Past Net Sales'})\n",
        "summary_c1.covariate_order(['Q(\"Treatment Group\")[T.True]','Q(\"Total Transactions (past)\")', 'Q(\"Net Sales (past)\")'])\n",
        "summary_c1.show_confidence_intervals(False)\n",
        "summary_c1.show_degrees_of_freedom(False)\n",
        "summary_c1.show_r2 = False\n",
        "summary_c1.show_adj_r2 = False\n",
        "summary_c1.show_residual_std_err = False\n",
        "summary_c1.show_f_statistic = False\n",
        "summary_c1"
      ],
      "metadata": {
        "id": "YCzNg7Vu9elR",
        "colab": {
          "base_uri": "https://localhost:8080/",
          "height": 283
        },
        "outputId": "39818c8f-9482-4015-e3fc-9ff0442e7359"
      },
      "execution_count": 13,
      "outputs": [
        {
          "output_type": "execute_result",
          "data": {
            "text/plain": [
              "<stargazer.stargazer.Stargazer at 0x7a2b86d9bbe0>"
            ],
            "text/html": [
              "Treatment Effects - Control vs Status Quo Ad (Without Tatiana)<br><table style=\"text-align:center\"><tr><td colspan=\"5\" style=\"border-bottom: 1px solid black\"></td></tr>\n",
              "<tr><td style=\"text-align:left\"></td><tr><td></td><td colspan=\"1\">Total Transactions</td><td colspan=\"1\">Quantity</td><td colspan=\"1\">Net Sales</td><td colspan=\"1\">Purchase Propensity</td></tr><tr><td style=\"text-align:left\"></td><td>(1)</td><td>(2)</td><td>(3)</td><td>(4)</td></tr>\n",
              "<tr><td colspan=\"5\" style=\"border-bottom: 1px solid black\"></td></tr>\n",
              "\n",
              "<tr><td style=\"text-align:left\">Treatment Effect</td><td>0.00<sup></sup></td><td>0.01<sup></sup></td><td>796.13<sup></sup></td><td>0.00<sup></sup></td></tr>\n",
              "<tr><td style=\"text-align:left\"></td><td>(0.01)</td><td>(0.01)</td><td>(732.97)</td><td>(0.00)</td></tr>\n",
              "<tr><td style=\"text-align:left\">Past Transactions</td><td>0.01<sup></sup></td><td>0.00<sup></sup></td><td>86.18<sup></sup></td><td>0.01<sup></sup></td></tr>\n",
              "<tr><td style=\"text-align:left\"></td><td>(0.01)</td><td>(0.02)</td><td>(698.70)</td><td>(0.01)</td></tr>\n",
              "<tr><td style=\"text-align:left\">Past Net Sales</td><td>0.00<sup></sup></td><td>0.00<sup></sup></td><td>0.00<sup></sup></td><td>0.00<sup></sup></td></tr>\n",
              "<tr><td style=\"text-align:left\"></td><td>(0.00)</td><td>(0.00)</td><td>(0.01)</td><td>(0.00)</td></tr>\n",
              "\n",
              "<td colspan=\"5\" style=\"border-bottom: 1px solid black\"></td></tr>\n",
              "<tr><td style=\"text-align: left\">Observations</td><td>1031</td><td>1031</td><td>1031</td><td>1031</td></tr>\n",
              "<tr><td colspan=\"5\" style=\"border-bottom: 1px solid black\"></td></tr><tr><td style=\"text-align: left\">Note:</td><td colspan=\"4\" style=\"text-align: right\"><sup>*</sup>p&lt;0.1; <sup>**</sup>p&lt;0.05; <sup>***</sup>p&lt;0.01</td></tr></table>"
            ]
          },
          "metadata": {},
          "execution_count": 13
        }
      ]
    },
    {
      "cell_type": "markdown",
      "source": [
        "Similar to the previous table, we have kept the same key metrics under consideration, comparing the effects of treatment arm 1 against a control group. However, excludeing one person named Tatiana (outlier).\n",
        "<br>\n",
        "**Treatment Effect:**\n",
        "A value of 0.00 for Total Transactions suggests no significant change in the total number of transactions.\n",
        "An increase of 0.01 in Quantity implies a small positive impact on the quantity of items sold.\n",
        "A substantial increase of 796.13 in Net Sales indicates a significant positive impact on the overall sales revenue.\n",
        "A negligible change of 0.00 in Purchase Propensity suggests minimal impact on the likelihood of making a purchase.<br>\n",
        "The rows labeled \"Past Transactions\" and \"Past Net Sales\" compare the treatment effects to historical data, excluding Tatiana.\n",
        "An increase of 0.01 in past transactions suggests a slight positive impact on historical transaction numbers.\n",
        "No significant change is observed in past net sales, as indicated by a value of 0.00."
      ],
      "metadata": {
        "id": "f6Z7BpO0ZX3m"
      }
    },
    {
      "cell_type": "markdown",
      "source": [
        "Now, we will measure the treatment effect for treatment arm 1 and treatment arm 2, for all the members."
      ],
      "metadata": {
        "id": "ExOlO4cDa82Q"
      }
    },
    {
      "cell_type": "code",
      "source": [
        "# Treatment 1 vs Treatment 2 - All Members\n",
        "\n",
        "merged_control = merged.loc[:]\n",
        "\n",
        "merged_control = merged_control[merged_control['Treatment Group'] != 1.0]\n",
        "merged_control['Treatment Group'] = merged_control['Treatment Group'] > 2\n",
        "\n",
        "transaction_c1 = smf.ols('Q(\"Total Transactions (post)\") ~ Q(\"Treatment Group\") + Q(\"Total Transactions (past)\") + Q(\"Net Sales (past)\")', data= merged_control).fit(cov_type = 'HC1')\n",
        "quantity_c1 = smf.ols('Q(\"Quantity (post)\") ~ Q(\"Treatment Group\") + Q(\"Total Transactions (past)\") + Q(\"Net Sales (past)\")', data= merged_control).fit(cov_type = 'HC1')\n",
        "sales_c1 = smf.ols('Q(\"Net Sales (post)\") ~ Q(\"Treatment Group\")+ Q(\"Total Transactions (past)\") + Q(\"Net Sales (past)\")', data= merged_control).fit(cov_type = 'HC1')\n",
        "propensity_c1 = smf.ols('Q(\"Purchase Propensity (post)\") ~ Q(\"Treatment Group\")+ Q(\"Total Transactions (past)\") + Q(\"Net Sales (past)\")', data= merged_control).fit(cov_type = 'HC1')\n",
        "summary_c1 = Stargazer([transaction_c1, quantity_c1, sales_c1, propensity_c1])\n",
        "\n",
        "summary_c1.title('Treatment Effects - Status Quo Ad vs Nudge Ad')\n",
        "summary_c1.custom_columns(['Total Transactions', 'Quantity',\n",
        "                           'Net Sales', 'Purchase Propensity'])\n",
        "summary_c1.significant_digits(2)\n",
        "summary_c1.rename_covariates({'Q(\"Treatment Group\")[T.True]': 'Treatment Effect', 'Q(\"Total Transactions (past)\")': 'Past Transactions', 'Q(\"Net Sales (past)\")':'Past Net Sales'})\n",
        "summary_c1.covariate_order(['Q(\"Treatment Group\")[T.True]','Q(\"Total Transactions (past)\")', 'Q(\"Net Sales (past)\")'])\n",
        "summary_c1.show_confidence_intervals(False)\n",
        "summary_c1.show_degrees_of_freedom(False)\n",
        "summary_c1.show_r2 = False\n",
        "summary_c1.show_adj_r2 = False\n",
        "summary_c1.show_residual_std_err = False\n",
        "summary_c1.show_f_statistic = False\n",
        "summary_c1"
      ],
      "metadata": {
        "id": "5aWrrlQQV_NU",
        "colab": {
          "base_uri": "https://localhost:8080/",
          "height": 283
        },
        "outputId": "a0f3cbcc-5b69-4871-8a53-571225931b29"
      },
      "execution_count": 14,
      "outputs": [
        {
          "output_type": "execute_result",
          "data": {
            "text/plain": [
              "<stargazer.stargazer.Stargazer at 0x7a2b86dcaef0>"
            ],
            "text/html": [
              "Treatment Effects - Status Quo Ad vs Nudge Ad<br><table style=\"text-align:center\"><tr><td colspan=\"5\" style=\"border-bottom: 1px solid black\"></td></tr>\n",
              "<tr><td style=\"text-align:left\"></td><tr><td></td><td colspan=\"1\">Total Transactions</td><td colspan=\"1\">Quantity</td><td colspan=\"1\">Net Sales</td><td colspan=\"1\">Purchase Propensity</td></tr><tr><td style=\"text-align:left\"></td><td>(1)</td><td>(2)</td><td>(3)</td><td>(4)</td></tr>\n",
              "<tr><td colspan=\"5\" style=\"border-bottom: 1px solid black\"></td></tr>\n",
              "\n",
              "<tr><td style=\"text-align:left\">Treatment Effect</td><td>0.01<sup></sup></td><td>0.00<sup></sup></td><td>795.38<sup></sup></td><td>0.01<sup></sup></td></tr>\n",
              "<tr><td style=\"text-align:left\"></td><td>(0.01)</td><td>(0.02)</td><td>(1076.92)</td><td>(0.01)</td></tr>\n",
              "<tr><td style=\"text-align:left\">Past Transactions</td><td>0.01<sup></sup></td><td>-0.01<sup></sup></td><td>-518.79<sup></sup></td><td>0.01<sup></sup></td></tr>\n",
              "<tr><td style=\"text-align:left\"></td><td>(0.01)</td><td>(0.02)</td><td>(786.08)</td><td>(0.01)</td></tr>\n",
              "<tr><td style=\"text-align:left\">Past Net Sales</td><td>-0.00<sup></sup></td><td>0.00<sup></sup></td><td>0.01<sup></sup></td><td>-0.00<sup></sup></td></tr>\n",
              "<tr><td style=\"text-align:left\"></td><td>(0.00)</td><td>(0.00)</td><td>(0.01)</td><td>(0.00)</td></tr>\n",
              "\n",
              "<td colspan=\"5\" style=\"border-bottom: 1px solid black\"></td></tr>\n",
              "<tr><td style=\"text-align: left\">Observations</td><td>1033</td><td>1033</td><td>1033</td><td>1033</td></tr>\n",
              "<tr><td colspan=\"5\" style=\"border-bottom: 1px solid black\"></td></tr><tr><td style=\"text-align: left\">Note:</td><td colspan=\"4\" style=\"text-align: right\"><sup>*</sup>p&lt;0.1; <sup>**</sup>p&lt;0.05; <sup>***</sup>p&lt;0.01</td></tr></table>"
            ]
          },
          "metadata": {},
          "execution_count": 14
        }
      ]
    },
    {
      "cell_type": "markdown",
      "source": [
        "Once again, after having the same key metrics, we will compare the treatment effect between the \"Status Quo Ad\" and the \"Nudge Ad.\"<br>\n",
        "**Treatment Effect:**\n",
        "WE can see a positive treatment effect of 0.01 for Total Transactions suggesting a slight increase in the total number of transactions with the Nudge Ad.\n",
        "No significant change in Quantity (0.00) indicates little impact on the quantity of items sold.\n",
        "A substantial increase of 795.38 in Net Sales suggests a significant positive impact on the overall sales revenue with the Nudge Ad.\n",
        "A positive treatment effect of 0.01 in Purchase Propensity indicates a slight increase in the likelihood of making a purchase with the Nudge Ad.\n",
        "<br>\n",
        "**Past Transactions, Past Net Sales:**\n",
        "A positive treatment effect of 0.01 in past transactions suggests a slight increase in historical transaction numbers with the Nudge Ad.\n",
        "A decrease of -0.01 in past Quantity implies a small reduction in the quantity of items sold.\n",
        "A significant decrease of -518.79 in past Net Sales indicates a negative impact on historical sales revenue with the Nudge Ad."
      ],
      "metadata": {
        "id": "DZoNTl5ogR4l"
      }
    },
    {
      "cell_type": "markdown",
      "source": [
        "###**Heterogeneous Treatment Effects**"
      ],
      "metadata": {
        "id": "Eu3GJYm4pijM"
      }
    },
    {
      "cell_type": "code",
      "source": [
        "from google.colab import drive\n",
        "import pandas as pd\n",
        "drive.mount('/content/drive')\n",
        "\n",
        "\n",
        "# 7 Days Loyalty Member Sales\n",
        "\n",
        "data = pd.read_csv('/content/drive/MyDrive/830/ExperimentDataSunday.csv',\n",
        "                   delimiter=';')\n",
        "clients = pd.read_csv('/content/drive/MyDrive/830/ClientsData-1.csv',\n",
        "                      delimiter=';')\n",
        "assignments = pd.read_csv('/content/drive/MyDrive/830/clients_assigned.csv',\n",
        "                          delimiter=',').drop('Unnamed: 0', axis=1)\n"
      ],
      "metadata": {
        "id": "hhVMnZaZgx65",
        "colab": {
          "base_uri": "https://localhost:8080/"
        },
        "outputId": "6b6150e9-7de1-4840-bcab-ef9628b0dd86"
      },
      "execution_count": 16,
      "outputs": [
        {
          "output_type": "stream",
          "name": "stdout",
          "text": [
            "Drive already mounted at /content/drive; to attempt to forcibly remount, call drive.mount(\"/content/drive\", force_remount=True).\n"
          ]
        }
      ]
    },
    {
      "cell_type": "code",
      "source": [
        "data = data.groupby('CustomerID').agg({\"CheckID\":lambda x: x.nunique(), 'Quantity':'sum', 'Summ':'sum'}).reset_index()\n",
        "data['CheckID'] = (data['CheckID'] > 0).astype('int')\n",
        "data = data.rename(columns={'CheckID':'propensity'})\n",
        "clients = clients.drop(['BOTID'],axis=1) #'PartnerName','DateOfReg',\n",
        "merged = clients.merge(data, how='left', left_on=\"PartnerID\", right_on = 'CustomerID').fillna(0).drop('CustomerID',axis=1)"
      ],
      "metadata": {
        "id": "wSqOogiEhLY1"
      },
      "execution_count": 17,
      "outputs": []
    },
    {
      "cell_type": "code",
      "source": [
        "#Heterogeneous Treatment Effect on date of birth\n",
        "df_ht_dob=merged.copy()\n",
        "df_ht_dob_srt=df_ht_dob.sort_values(by='DateOfBirthday', ascending=True)\n",
        "#removing the last rows with DOB >= 2023\n",
        "df_ht_dob_srt=df_ht_dob_srt.iloc[:1506,:]\n",
        "\n",
        "df_ht_dob_srt = df_ht_dob_srt.sort_values(by='DateOfReg',ascending=True)\n",
        "# removing rows with DOR in the year 2001, before store opened\n",
        "df_ht_dob_srt = df_ht_dob_srt.sort_values(by='DateOfReg',ascending=True).iloc[30:, :]\n",
        "\n",
        "\n",
        "df_ht_dob_mrg=df_ht_dob_srt.merge(assignments[['PartnerID', 'treatment_group']], how = 'left', on='PartnerID')\n",
        "\n"
      ],
      "metadata": {
        "id": "BX4GolZyhNol"
      },
      "execution_count": 18,
      "outputs": []
    },
    {
      "cell_type": "code",
      "source": [
        "# Convert to datetime\n",
        "df_ht_dob_mrg['DateOfBirthday']=pd.to_datetime(df_ht_dob_mrg['DateOfBirthday'])\n",
        "df_ht_dob_mrg['DateOfReg']=pd.to_datetime(df_ht_dob_mrg['DateOfReg'])\n",
        "current_date = pd.to_datetime('2024-02-25')\n",
        "df_ht_dob_mrg['Age'] = current_date.year - df_ht_dob_mrg['DateOfBirthday'].dt.year\n",
        "df_ht_dob_mrg['Days_since'] = (current_date - df_ht_dob_mrg['DateOfReg']).dt.days\n",
        "\n",
        "# Heterogeneous treatment effect of generation\n",
        "bins=[0,27,43,59]\n",
        "labels = ['Gen Z', 'Millennials', 'Gen X']\n",
        "\n",
        "df_ht_dob_mrg['Generation'] = pd.cut(df_ht_dob_mrg['Age'], bins=bins, labels=labels)\n",
        "\n",
        "# Heterogeneous treatment effect of days since the registered\n",
        "bins = bins=[0, 100,200,300,318]\n",
        "labels = ['100', '200', '300', 'DayOne']\n",
        "df_ht_dob_mrg['Days_since_grp'] = pd.cut(df_ht_dob_mrg['Days_since'], bins=bins, labels=labels).astype('category')\n",
        "\n",
        "# Drop NA\n",
        "df_ht_dob_mrg = df_ht_dob_mrg.dropna()"
      ],
      "metadata": {
        "id": "M75ujPKGhTAU"
      },
      "execution_count": 19,
      "outputs": []
    },
    {
      "cell_type": "code",
      "source": [
        "df_ht_dob_mrg.drop(columns=['DateOfBirthday','NumberOfTransactions','PartnerName',\n",
        "                         'DateOfReg','TotalSumOfPurchases'], inplace=True, axis=1)"
      ],
      "metadata": {
        "id": "PIo0dXR0hUuB"
      },
      "execution_count": 20,
      "outputs": []
    },
    {
      "cell_type": "code",
      "source": [
        "df_ht_dob_mrg['Generation'].hist(grid=False)"
      ],
      "metadata": {
        "colab": {
          "base_uri": "https://localhost:8080/",
          "height": 447
        },
        "id": "d3tmAv0K1J6c",
        "outputId": "cd92d971-c52b-40eb-81c9-7d7199479da5"
      },
      "execution_count": 21,
      "outputs": [
        {
          "output_type": "execute_result",
          "data": {
            "text/plain": [
              "<Axes: >"
            ]
          },
          "metadata": {},
          "execution_count": 21
        },
        {
          "output_type": "display_data",
          "data": {
            "text/plain": [
              "<Figure size 640x480 with 1 Axes>"
            ],
            "image/png": "[encoded data removed]"
          },
          "metadata": {}
        }
      ]
    },
    {
      "cell_type": "markdown",
      "source": [],
      "metadata": {
        "id": "tVHvjFiWjALG"
      }
    },
    {
      "cell_type": "code",
      "source": [
        "df_ht_dob_mrg['Days_since_grp'].hist(grid=False)"
      ],
      "metadata": {
        "colab": {
          "base_uri": "https://localhost:8080/",
          "height": 447
        },
        "id": "z2BQAfEIs9-X",
        "outputId": "3e913e67-fe0f-4f59-a07e-d20aafdfdf14"
      },
      "execution_count": 22,
      "outputs": [
        {
          "output_type": "execute_result",
          "data": {
            "text/plain": [
              "<Axes: >"
            ]
          },
          "metadata": {},
          "execution_count": 22
        },
        {
          "output_type": "display_data",
          "data": {
            "text/plain": [
              "<Figure size 640x480 with 1 Axes>"
            ],
            "image/png": "[encoded data removed]"
          },
          "metadata": {}
        }
      ]
    },
    {
      "cell_type": "code",
      "source": [
        "import statsmodels.formula.api as smf\n",
        "from stargazer.stargazer import Stargazer\n",
        "\n",
        "df_ht_dob_mrg_g = df_ht_dob_mrg[df_ht_dob_mrg.Generation != 'Boomer'] # drop boomers, only 5 observations\n",
        "df_ht_dob_mrg_c1 = df_ht_dob_mrg_g[df_ht_dob_mrg_g.treatment_group != 3.0]\n",
        "df_ht_dob_mrg_12 = df_ht_dob_mrg_g[df_ht_dob_mrg_g.treatment_group != 1.0]\n",
        "\n",
        "# Sales - Generation\n",
        "\n",
        "model_s_c1 = smf.ols('Summ ~ treatment_group : Generation', data=df_ht_dob_mrg_c1).fit(cov_type='HC1')\n",
        "model_s_12 = smf.ols('Summ ~ treatment_group : Generation', data=df_ht_dob_mrg_12).fit(cov_type='HC1')\n",
        "\n",
        "# Quantity - Generation\n",
        "model_q_c1 = smf.ols('Quantity ~ treatment_group : Generation', data=df_ht_dob_mrg_c1).fit(cov_type='HC1')\n",
        "model_q_12 = smf.ols('Quantity ~ treatment_group : Generation', data=df_ht_dob_mrg_12).fit(cov_type='HC1')\n",
        "\n",
        "# Propensity - Generation\n",
        "model_p_c1 = smf.ols('propensity ~ treatment_group : Generation', data=df_ht_dob_mrg_c1).fit(cov_type='HC1')\n",
        "model_p_12 = smf.ols('propensity ~ treatment_group : Generation', data=df_ht_dob_mrg_12).fit(cov_type='HC1')\n",
        "\n",
        "stargazer = Stargazer([model_s_c1, model_s_12,model_q_c1, model_q_12,model_p_c1, model_p_12])\n",
        "stargazer.title('Regression Results : Interaction Effect of Generation and Treatment')\n",
        "stargazer.custom_columns(['Sales - C vs T1', 'Sales - T1 vs T2','Quantity - C vs T1', 'Quantity - T1 vs T2','Propensity - C vs T1', 'Propensity - T1 vs T2'])\n",
        "stargazer.significant_digits(2)\n",
        "stargazer.rename_covariates({'treatment_group:Generation[Gen X]': 'Treatment Effect (GenX)', 'treatment_group:Generation[Gen Z]': 'Treatment Effect (GenZ)',\n",
        "                             'treatment_group:Generation[Millennials]':'Treatment Effect (Millenials)'})\n",
        "stargazer.show_confidence_intervals(False)\n",
        "stargazer.show_degrees_of_freedom(False)\n",
        "stargazer.show_r2 = False\n",
        "stargazer.show_adj_r2 = False\n",
        "stargazer.show_residual_std_err = False\n",
        "stargazer.show_f_statistic = False\n",
        "stargazer"
      ],
      "metadata": {
        "id": "6qJFs0mxhnvI",
        "colab": {
          "base_uri": "https://localhost:8080/",
          "height": 329
        },
        "outputId": "3c28a27f-ad04-4b81-8ae4-6e64e6b84a84"
      },
      "execution_count": 23,
      "outputs": [
        {
          "output_type": "execute_result",
          "data": {
            "text/plain": [
              "<stargazer.stargazer.Stargazer at 0x7a2b868edcf0>"
            ],
            "text/html": [
              "Regression Results : Interaction Effect of Generation and Treatment<br><table style=\"text-align:center\"><tr><td colspan=\"7\" style=\"border-bottom: 1px solid black\"></td></tr>\n",
              "<tr><td style=\"text-align:left\"></td><tr><td></td><td colspan=\"1\">Sales - C vs T1</td><td colspan=\"1\">Sales - T1 vs T2</td><td colspan=\"1\">Quantity - C vs T1</td><td colspan=\"1\">Quantity - T1 vs T2</td><td colspan=\"1\">Propensity - C vs T1</td><td colspan=\"1\">Propensity - T1 vs T2</td></tr><tr><td style=\"text-align:left\"></td><td>(1)</td><td>(2)</td><td>(3)</td><td>(4)</td><td>(5)</td><td>(6)</td></tr>\n",
              "<tr><td colspan=\"7\" style=\"border-bottom: 1px solid black\"></td></tr>\n",
              "\n",
              "<tr><td style=\"text-align:left\">Intercept</td><td>2213.22<sup></sup></td><td>-357.89<sup></sup></td><td>0.03<sup></sup></td><td>0.01<sup></sup></td><td>0.01<sup></sup></td><td>-0.01<sup></sup></td></tr>\n",
              "<tr><td style=\"text-align:left\"></td><td>(2804.56)</td><td>(2851.81)</td><td>(0.04)</td><td>(0.05)</td><td>(0.01)</td><td>(0.02)</td></tr>\n",
              "<tr><td style=\"text-align:left\">Treatment Effect (GenX)</td><td>7508.52<sup></sup></td><td>1382.36<sup></sup></td><td>0.14<sup></sup></td><td>0.03<sup></sup></td><td>0.02<sup></sup></td><td>0.01<sup></sup></td></tr>\n",
              "<tr><td style=\"text-align:left\"></td><td>(5307.55)</td><td>(1178.15)</td><td>(0.11)</td><td>(0.02)</td><td>(0.02)</td><td>(0.01)</td></tr>\n",
              "<tr><td style=\"text-align:left\">Treatment Effect (GenZ)</td><td>-806.43<sup></sup></td><td>632.14<sup></sup></td><td>-0.01<sup></sup></td><td>-0.00<sup></sup></td><td>-0.00<sup></sup></td><td>0.01<sup></sup></td></tr>\n",
              "<tr><td style=\"text-align:left\"></td><td>(1800.95)</td><td>(1116.84)</td><td>(0.02)</td><td>(0.02)</td><td>(0.01)</td><td>(0.01)</td></tr>\n",
              "<tr><td style=\"text-align:left\">Treatment Effect (Millenials)</td><td>-1150.77<sup></sup></td><td>980.91<sup></sup></td><td>-0.02<sup></sup></td><td>0.01<sup></sup></td><td>-0.00<sup></sup></td><td>0.01<sup></sup></td></tr>\n",
              "<tr><td style=\"text-align:left\"></td><td>(1680.27)</td><td>(1364.56)</td><td>(0.02)</td><td>(0.02)</td><td>(0.00)</td><td>(0.01)</td></tr>\n",
              "\n",
              "<td colspan=\"7\" style=\"border-bottom: 1px solid black\"></td></tr>\n",
              "<tr><td style=\"text-align: left\">Observations</td><td>981</td><td>974</td><td>981</td><td>974</td><td>981</td><td>974</td></tr>\n",
              "<tr><td colspan=\"7\" style=\"border-bottom: 1px solid black\"></td></tr><tr><td style=\"text-align: left\">Note:</td><td colspan=\"6\" style=\"text-align: right\"><sup>*</sup>p&lt;0.1; <sup>**</sup>p&lt;0.05; <sup>***</sup>p&lt;0.01</td></tr></table>"
            ]
          },
          "metadata": {},
          "execution_count": 23
        }
      ]
    },
    {
      "cell_type": "code",
      "source": [
        "# Days since registration\n",
        "\n",
        "df_ht_dob_mrg_r = df_ht_dob_mrg#[df_ht_dob_mrg.Dats_since_grp != 'DayOne'] # drop DayOne, only ~60 observations\n",
        "df_ht_dob_mrg_c1 = df_ht_dob_mrg_r[df_ht_dob_mrg.treatment_group != 3.0]\n",
        "df_ht_dob_mrg_12 = df_ht_dob_mrg_r[df_ht_dob_mrg.treatment_group != 1.0]\n",
        "\n",
        "# Sales\n",
        "\n",
        "model_s_c1 = smf.ols('Summ ~ treatment_group : Days_since_grp', data=df_ht_dob_mrg_c1).fit(cov_type='HC1')\n",
        "model_s_12 = smf.ols('Summ ~ treatment_group : Days_since_grp', data=df_ht_dob_mrg_12).fit(cov_type='HC1')\n",
        "\n",
        "# Quantity\n",
        "model_q_c1 = smf.ols('Quantity ~ treatment_group : Days_since_grp', data=df_ht_dob_mrg_c1).fit(cov_type='HC1')\n",
        "model_q_12 = smf.ols('Quantity ~ treatment_group : Days_since_grp', data=df_ht_dob_mrg_12).fit(cov_type='HC1')\n",
        "\n",
        "# Propensity\n",
        "model_p_c1 = smf.ols('propensity ~ treatment_group : Days_since_grp', data=df_ht_dob_mrg_c1).fit(cov_type='HC1')\n",
        "model_p_12 = smf.ols('propensity ~ treatment_group : Days_since_grp', data=df_ht_dob_mrg_12).fit(cov_type='HC1')\n",
        "\n",
        "stargazer = Stargazer([model_s_c1, model_s_12,model_q_c1, model_q_12,model_p_c1, model_p_12])\n",
        "\n",
        "stargazer.title('Regression Results : Interaction Effect of Days since Registration and Treatment Group')\n",
        "stargazer.custom_columns(['Sales - C vs T1', 'Sales - T1 vs T2','Quantity - C vs T1', 'Quantity - T1 vs T2','Propensity - C vs T1', 'Propensity - T1 vs T2'])\n",
        "stargazer.significant_digits(2)\n",
        "stargazer.rename_covariates({'treatment_group:Days_since_grp[100]': 'Treatment Effect (<100 days)', 'treatment_group:Days_since_grp[200]': 'Treatment Effect (100-200d)',\n",
        "                             'treatment_group:Days_since_grp[300]':'Treatment Effect (200-300 days)', 'treatment_group:Days_since_grp[DayOne]':'Treatment Effect (Day One Members)'})\n",
        "stargazer.show_confidence_intervals(False)\n",
        "stargazer.show_degrees_of_freedom(False)\n",
        "stargazer.show_r2 = False\n",
        "stargazer.show_adj_r2 = False\n",
        "stargazer.show_residual_std_err = False\n",
        "stargazer.show_f_statistic = False\n",
        "stargazer\n",
        "\n"
      ],
      "metadata": {
        "colab": {
          "base_uri": "https://localhost:8080/",
          "height": 374
        },
        "id": "QuhE5NHmulNO",
        "outputId": "09feab47-8685-421c-8368-c2efd4726bda"
      },
      "execution_count": 24,
      "outputs": [
        {
          "output_type": "execute_result",
          "data": {
            "text/plain": [
              "<stargazer.stargazer.Stargazer at 0x7a2b8692da20>"
            ],
            "text/html": [
              "Regression Results : Interaction Effect of Days since Registration and Treatment Group<br><table style=\"text-align:center\"><tr><td colspan=\"7\" style=\"border-bottom: 1px solid black\"></td></tr>\n",
              "<tr><td style=\"text-align:left\"></td><tr><td></td><td colspan=\"1\">Sales - C vs T1</td><td colspan=\"1\">Sales - T1 vs T2</td><td colspan=\"1\">Quantity - C vs T1</td><td colspan=\"1\">Quantity - T1 vs T2</td><td colspan=\"1\">Propensity - C vs T1</td><td colspan=\"1\">Propensity - T1 vs T2</td></tr><tr><td style=\"text-align:left\"></td><td>(1)</td><td>(2)</td><td>(3)</td><td>(4)</td><td>(5)</td><td>(6)</td></tr>\n",
              "<tr><td colspan=\"7\" style=\"border-bottom: 1px solid black\"></td></tr>\n",
              "\n",
              "<tr><td style=\"text-align:left\">Intercept</td><td>2144.38<sup></sup></td><td>-445.96<sup></sup></td><td>0.03<sup></sup></td><td>0.01<sup></sup></td><td>0.01<sup></sup></td><td>-0.01<sup></sup></td></tr>\n",
              "<tr><td style=\"text-align:left\"></td><td>(2809.02)</td><td>(2803.51)</td><td>(0.04)</td><td>(0.05)</td><td>(0.01)</td><td>(0.02)</td></tr>\n",
              "<tr><td style=\"text-align:left\">Treatment Effect (<100 days)</td><td>633.43<sup></sup></td><td>1399.95<sup></sup></td><td>0.00<sup></sup></td><td>0.01<sup></sup></td><td>0.00<sup></sup></td><td>0.01<sup>*</sup></td></tr>\n",
              "<tr><td style=\"text-align:left\"></td><td>(1411.13)</td><td>(1238.94)</td><td>(0.02)</td><td>(0.02)</td><td>(0.01)</td><td>(0.01)</td></tr>\n",
              "<tr><td style=\"text-align:left\">Treatment Effect (100-200d)</td><td>-1038.82<sup></sup></td><td>782.79<sup></sup></td><td>-0.01<sup></sup></td><td>0.00<sup></sup></td><td>-0.00<sup></sup></td><td>0.01<sup></sup></td></tr>\n",
              "<tr><td style=\"text-align:left\"></td><td>(1663.22)</td><td>(1320.63)</td><td>(0.02)</td><td>(0.02)</td><td>(0.00)</td><td>(0.01)</td></tr>\n",
              "<tr><td style=\"text-align:left\">Treatment Effect (200-300 days)</td><td>-806.19<sup></sup></td><td>516.28<sup></sup></td><td>-0.01<sup></sup></td><td>0.00<sup></sup></td><td>-0.00<sup></sup></td><td>0.01<sup></sup></td></tr>\n",
              "<tr><td style=\"text-align:left\"></td><td>(1820.27)</td><td>(1046.06)</td><td>(0.03)</td><td>(0.01)</td><td>(0.01)</td><td>(0.01)</td></tr>\n",
              "<tr><td style=\"text-align:left\">Treatment Effect (Day One Members)</td><td>-1262.58<sup></sup></td><td>171.52<sup></sup></td><td>-0.02<sup></sup></td><td>-0.00<sup></sup></td><td>-0.01<sup></sup></td><td>0.00<sup></sup></td></tr>\n",
              "<tr><td style=\"text-align:left\"></td><td>(1654.47)</td><td>(1078.28)</td><td>(0.02)</td><td>(0.02)</td><td>(0.01)</td><td>(0.01)</td></tr>\n",
              "\n",
              "<td colspan=\"7\" style=\"border-bottom: 1px solid black\"></td></tr>\n",
              "<tr><td style=\"text-align: left\">Observations</td><td>981</td><td>974</td><td>981</td><td>974</td><td>981</td><td>974</td></tr>\n",
              "<tr><td colspan=\"7\" style=\"border-bottom: 1px solid black\"></td></tr><tr><td style=\"text-align: left\">Note:</td><td colspan=\"6\" style=\"text-align: right\"><sup>*</sup>p&lt;0.1; <sup>**</sup>p&lt;0.05; <sup>***</sup>p&lt;0.01</td></tr></table>"
            ]
          },
          "metadata": {},
          "execution_count": 24
        }
      ]
    },
    {
      "cell_type": "markdown",
      "source": [
        "###**Fixed Effects**"
      ],
      "metadata": {
        "id": "unYeE2aq7DpZ"
      }
    },
    {
      "cell_type": "code",
      "source": [
        "!pip install pyfixest"
      ],
      "metadata": {
        "id": "8yae17RR7Dpf",
        "colab": {
          "base_uri": "https://localhost:8080/"
        },
        "outputId": "f88ca4df-a7d8-4d50-a7e9-0d699ebc78a6"
      },
      "execution_count": 25,
      "outputs": [
        {
          "output_type": "stream",
          "name": "stdout",
          "text": [
            "Collecting pyfixest\n",
            "  Downloading pyfixest-0.17.1-py3-none-any.whl (2.1 MB)\n",
            "\u001b[2K     \u001b[90m━━━━━━━━━━━━━━━━━━━━━━━━━━━━━━━━━━━━━━━━\u001b[0m \u001b[32m2.1/2.1 MB\u001b[0m \u001b[31m21.1 MB/s\u001b[0m eta \u001b[36m0:00:00\u001b[0m\n",
            "\u001b[?25hCollecting formulaic<1.0.0,>=0.6.6 (from pyfixest)\n",
            "  Downloading formulaic-0.6.6-py3-none-any.whl (91 kB)\n",
            "\u001b[2K     \u001b[90m━━━━━━━━━━━━━━━━━━━━━━━━━━━━━━━━━━━━━━━━\u001b[0m \u001b[32m91.0/91.0 kB\u001b[0m \u001b[31m4.7 MB/s\u001b[0m eta \u001b[36m0:00:00\u001b[0m\n",
            "\u001b[?25hCollecting lets-plot>=4.0.1 (from pyfixest)\n",
            "  Downloading lets_plot-4.3.0-cp310-cp310-manylinux_2_17_x86_64.manylinux2014_x86_64.whl (3.0 MB)\n",
            "\u001b[2K     \u001b[90m━━━━━━━━━━━━━━━━━━━━━━━━━━━━━━━━━━━━━━━━\u001b[0m \u001b[32m3.0/3.0 MB\u001b[0m \u001b[31m30.3 MB/s\u001b[0m eta \u001b[36m0:00:00\u001b[0m\n",
            "\u001b[?25hRequirement already satisfied: numba>=0.58.0 in /usr/local/lib/python3.10/dist-packages (from pyfixest) (0.58.1)\n",
            "Requirement already satisfied: numpy>=1.19.0 in /usr/local/lib/python3.10/dist-packages (from pyfixest) (1.25.2)\n",
            "Requirement already satisfied: pandas>=1.1.0 in /usr/local/lib/python3.10/dist-packages (from pyfixest) (1.5.3)\n",
            "Requirement already satisfied: scipy>=1.6 in /usr/local/lib/python3.10/dist-packages (from pyfixest) (1.11.4)\n",
            "Requirement already satisfied: tabulate>=0.9.0 in /usr/local/lib/python3.10/dist-packages (from pyfixest) (0.9.0)\n",
            "Collecting astor>=0.8 (from formulaic<1.0.0,>=0.6.6->pyfixest)\n",
            "  Downloading astor-0.8.1-py2.py3-none-any.whl (27 kB)\n",
            "Collecting interface-meta>=1.2.0 (from formulaic<1.0.0,>=0.6.6->pyfixest)\n",
            "  Downloading interface_meta-1.3.0-py3-none-any.whl (14 kB)\n",
            "Requirement already satisfied: typing-extensions>=4.2.0 in /usr/local/lib/python3.10/dist-packages (from formulaic<1.0.0,>=0.6.6->pyfixest) (4.10.0)\n",
            "Requirement already satisfied: wrapt>=1.0 in /usr/local/lib/python3.10/dist-packages (from formulaic<1.0.0,>=0.6.6->pyfixest) (1.14.1)\n",
            "Collecting pypng (from lets-plot>=4.0.1->pyfixest)\n",
            "  Downloading pypng-0.20220715.0-py3-none-any.whl (58 kB)\n",
            "\u001b[2K     \u001b[90m━━━━━━━━━━━━━━━━━━━━━━━━━━━━━━━━━━━━━━━━\u001b[0m \u001b[32m58.1/58.1 kB\u001b[0m \u001b[31m7.4 MB/s\u001b[0m eta \u001b[36m0:00:00\u001b[0m\n",
            "\u001b[?25hCollecting palettable (from lets-plot>=4.0.1->pyfixest)\n",
            "  Downloading palettable-3.3.3-py2.py3-none-any.whl (332 kB)\n",
            "\u001b[2K     \u001b[90m━━━━━━━━━━━━━━━━━━━━━━━━━━━━━━━━━━━━━━━━\u001b[0m \u001b[32m332.3/332.3 kB\u001b[0m \u001b[31m26.1 MB/s\u001b[0m eta \u001b[36m0:00:00\u001b[0m\n",
            "\u001b[?25hRequirement already satisfied: llvmlite<0.42,>=0.41.0dev0 in /usr/local/lib/python3.10/dist-packages (from numba>=0.58.0->pyfixest) (0.41.1)\n",
            "Requirement already satisfied: python-dateutil>=2.8.1 in /usr/local/lib/python3.10/dist-packages (from pandas>=1.1.0->pyfixest) (2.8.2)\n",
            "Requirement already satisfied: pytz>=2020.1 in /usr/local/lib/python3.10/dist-packages (from pandas>=1.1.0->pyfixest) (2023.4)\n",
            "Requirement already satisfied: six>=1.5 in /usr/local/lib/python3.10/dist-packages (from python-dateutil>=2.8.1->pandas>=1.1.0->pyfixest) (1.16.0)\n",
            "Installing collected packages: pypng, palettable, interface-meta, astor, lets-plot, formulaic, pyfixest\n",
            "Successfully installed astor-0.8.1 formulaic-0.6.6 interface-meta-1.3.0 lets-plot-4.3.0 palettable-3.3.3 pyfixest-0.17.1 pypng-0.20220715.0\n"
          ]
        }
      ]
    },
    {
      "cell_type": "code",
      "source": [
        "from pyfixest.estimation import feols\n",
        "from pyfixest import etable\n",
        "\n",
        "# Adding day info to data\n",
        "d_data = pd.read_csv('/content/drive/MyDrive/830/ExperimentDataSunday.csv', delimiter=';')\n",
        "d_data[\"day_num\"] = pd.to_datetime(d_data[\"DateAndTime\"]).dt.day\n",
        "d_data[\"day_of\"] = pd.to_datetime(d_data[\"DateAndTime\"]).dt.dayofweek\n",
        "\n",
        "d_data = d_data.groupby('CustomerID').agg({\"CheckID\":lambda x: x.nunique(), 'Quantity':'sum', 'Summ':'sum', 'AdvertisedProduct':'sum', \"day_num\":'mean',\"day_of\":\"mean\"}).reset_index()\n",
        "d_data['propensity'] = (d_data['CheckID'] > 0).astype('int')\n",
        "\n",
        "d_data = d_data.rename(columns={'CheckID':'transactions'})\n",
        "clients_assigned = pd.read_csv('/content/drive/MyDrive/830/clients_assigned.csv', delimiter=',').drop('Unnamed: 0', axis=1).drop(['PartnerName', 'BOTID'],axis=1)\\\n",
        "                                                                                              .rename(columns={'NumberOfTransactions':'transactions_past', 'TotalSumOfPurchases':'sales_past'})\n",
        "clients_assigned['propensity_past'] = clients_assigned.transactions_past > 0\n",
        "merged_day = pd.merge(clients_assigned, d_data, how = 'left', left_on='PartnerID', right_on = 'CustomerID').drop('CustomerID', axis=1).fillna(0).rename(columns={'Treatment Group':'treatment'})\n",
        "#merged_day= merged_day[merged_day['PartnerID'] != 'B6E2EB7304FAA17411EE97F302CDE61E'] # w/o tatiana"
      ],
      "metadata": {
        "id": "sZhjFHbM7Dpf"
      },
      "execution_count": 27,
      "outputs": []
    },
    {
      "cell_type": "code",
      "source": [
        "# for control group and treatment 1\n",
        "merged_control = merged_day.loc[:]\n",
        "\n",
        "merged_control = merged_control[merged_control['treatment_group'] != 3.0]\n",
        "merged_control['treatment_group'] = merged_control['treatment_group'] > 1\n",
        "\n",
        "transaction_c1 = feols('transactions  ~ treatment_group |  day_of + propensity_past', data= merged_control).vcov('hetero')\n",
        "quantity_c1 = feols('Quantity  ~ treatment_group |  day_of + propensity_past', data= merged_control).vcov('hetero')\n",
        "sales_c1 = feols('Summ  ~ treatment_group |  day_of + propensity_past', data= merged_control).vcov('hetero')\n",
        "propensity_c1 = feols('propensity ~ treatment_group | day_of + propensity_past', data= merged_control).vcov('hetero')\n",
        "print('Fixed Effects - Control vs Treatment 1')\n",
        "etable([transaction_c1,quantity_c1, sales_c1, propensity_c1])"
      ],
      "metadata": {
        "colab": {
          "base_uri": "https://localhost:8080/"
        },
        "outputId": "26372c4b-7cc8-4c3f-cd35-1c7bda7463d9",
        "id": "MySzG3T67Dpf"
      },
      "execution_count": 28,
      "outputs": [
        {
          "output_type": "stream",
          "name": "stdout",
          "text": [
            "Fixed Effects - Control vs Treatment 1\n",
            "                           est1            est2                 est3            est4\n",
            "---------------  --------------  --------------  -------------------  --------------\n",
            "depvar             transactions        Quantity                 Summ      propensity\n",
            "------------------------------------------------------------------------------------\n",
            "treatment_group  -0.000 (0.003)  -0.006 (0.019)  -556.843 (1417.712)  -0.000 (0.003)\n",
            "------------------------------------------------------------------------------------\n",
            "day_of                        x               x                    x               x\n",
            "propensity_past               x               x                    x               x\n",
            "------------------------------------------------------------------------------------\n",
            "R2                        0.799           0.305                0.113           0.713\n",
            "S.E. type                hetero          hetero               hetero          hetero\n",
            "Observations               1032            1032                 1032            1032\n",
            "------------------------------------------------------------------------------------\n",
            "Significance levels: * p < 0.05, ** p < 0.01, *** p < 0.001\n",
            "Format of coefficient cell:\n",
            "Coefficient (Std. Error)\n"
          ]
        }
      ]
    },
    {
      "cell_type": "code",
      "source": [
        "# for and treatment 1 and Treatment 2\n",
        "merged_12 = merged_day.loc[:]\n",
        "\n",
        "merged_12 = merged_12[merged_12['treatment_group'] != 1.0]\n",
        "merged_12['treatment_group'] = merged_12['treatment_group'] > 2\n",
        "\n",
        "transaction_12 = feols('transactions  ~ treatment_group |  day_of + propensity_past', data= merged_12).vcov('hetero')\n",
        "quantity_12 = feols('Quantity  ~ treatment_group |  day_of + propensity_past', data= merged_12).vcov('hetero')\n",
        "sales_12 = feols('Summ  ~ treatment_group |  day_of + propensity_past', data= merged_12).vcov('hetero')\n",
        "propensity_12 = feols('propensity ~ treatment_group | day_of + propensity_past', data= merged_12).vcov('hetero')\n",
        "\n",
        "print('Fixed Effects - Treatment 1 vs Treatment 2')\n",
        "etable([transaction_12,quantity_12, sales_12, propensity_12])\n"
      ],
      "metadata": {
        "colab": {
          "base_uri": "https://localhost:8080/"
        },
        "id": "qP9U5R31nxEt",
        "outputId": "9e76c9c9-8793-4ea5-bfe2-00bd02b063c3"
      },
      "execution_count": 29,
      "outputs": [
        {
          "output_type": "stream",
          "name": "stdout",
          "text": [
            "Fixed Effects - Treatment 1 vs Treatment 2\n",
            "                           est1            est2                est3            est4\n",
            "---------------  --------------  --------------  ------------------  --------------\n",
            "depvar             transactions        Quantity                Summ      propensity\n",
            "-----------------------------------------------------------------------------------\n",
            "treatment_group  -0.005 (0.003)  -0.017 (0.009)  -533.770 (560.994)  -0.002 (0.002)\n",
            "-----------------------------------------------------------------------------------\n",
            "day_of                        x               x                   x               x\n",
            "propensity_past               x               x                   x               x\n",
            "-----------------------------------------------------------------------------------\n",
            "R2                        0.895           0.725               0.674           0.899\n",
            "S.E. type                hetero          hetero              hetero          hetero\n",
            "Observations               1033            1033                1033            1033\n",
            "-----------------------------------------------------------------------------------\n",
            "Significance levels: * p < 0.05, ** p < 0.01, *** p < 0.001\n",
            "Format of coefficient cell:\n",
            "Coefficient (Std. Error)\n"
          ]
        }
      ]
    },
    {
      "cell_type": "markdown",
      "source": [
        "###**Power Analysis (Fixed Effects Model)**"
      ],
      "metadata": {
        "id": "DReYcUSZAKf3"
      }
    },
    {
      "cell_type": "code",
      "source": [
        "from statsmodels.stats.power import TTestPower\n",
        "import numpy as np"
      ],
      "metadata": {
        "id": "VgvezkM8SKVJ"
      },
      "execution_count": 30,
      "outputs": []
    },
    {
      "cell_type": "markdown",
      "source": [
        "####**Control vs Standard Ad**"
      ],
      "metadata": {
        "id": "o71BhpniAROK"
      }
    },
    {
      "cell_type": "code",
      "source": [
        "# Transactions\n",
        "\n",
        "group1_2 = merged[merged['Treatment Group']!= 3]\n",
        "sd=np.std(group1_2['Total Transactions (post)'])\n",
        "ATE= 0\n",
        "TTestPower().power(effect_size= ATE/sd, nobs= 1031, alternative='two-sided', alpha=.05)\n"
      ],
      "metadata": {
        "id": "KxhjplFASLfg",
        "colab": {
          "base_uri": "https://localhost:8080/"
        },
        "outputId": "2400b94f-0877-420c-86d2-5c01474c069e"
      },
      "execution_count": null,
      "outputs": [
        {
          "output_type": "execute_result",
          "data": {
            "text/plain": [
              "0.050000000000000065"
            ]
          },
          "metadata": {},
          "execution_count": 556
        }
      ]
    },
    {
      "cell_type": "code",
      "source": [
        "group1_2 = merged[merged['Treatment Group']!= 3]\n",
        "sd=np.std(group1_2['Quantity (post)'])\n",
        "ATE= -0.006\n",
        "TTestPower().power(effect_size= ATE/sd, nobs= 1031, alternative='two-sided', alpha=.05)\n"
      ],
      "metadata": {
        "id": "cqDg40PTSPm-",
        "colab": {
          "base_uri": "https://localhost:8080/"
        },
        "outputId": "004bbd0e-9a95-4318-90d1-bbc298f81392"
      },
      "execution_count": null,
      "outputs": [
        {
          "output_type": "execute_result",
          "data": {
            "text/plain": [
              "0.08341599552588469"
            ]
          },
          "metadata": {},
          "execution_count": 31
        }
      ]
    },
    {
      "cell_type": "code",
      "source": [
        "group1_2 = merged[merged['Treatment Group']!= 3]\n",
        "sd=np.std(group1_2['Net Sales (post)'])\n",
        "ATE= -556.843\n",
        "TTestPower().power(effect_size= ATE/sd, nobs= 1031, alternative='two-sided', alpha=.05)\n"
      ],
      "metadata": {
        "id": "GHTIkeeLSSrB",
        "colab": {
          "base_uri": "https://localhost:8080/"
        },
        "outputId": "34ce0717-ba50-4cf5-d17b-e8550952a946"
      },
      "execution_count": null,
      "outputs": [
        {
          "output_type": "execute_result",
          "data": {
            "text/plain": [
              "0.11513405884752545"
            ]
          },
          "metadata": {},
          "execution_count": 32
        }
      ]
    },
    {
      "cell_type": "code",
      "source": [
        "group1_2 = merged[merged['Treatment Group']!= 3]\n",
        "sd=np.std(group1_2['Purchase Propensity (post)'])\n",
        "ATE= 0\n",
        "TTestPower().power(effect_size= ATE/sd, nobs= 1031, alternative='two-sided', alpha=.05)\n"
      ],
      "metadata": {
        "id": "As3gRAtOSYc_",
        "colab": {
          "base_uri": "https://localhost:8080/"
        },
        "outputId": "0d241af7-e15f-4df3-867e-916c2769fe00"
      },
      "execution_count": null,
      "outputs": [
        {
          "output_type": "execute_result",
          "data": {
            "text/plain": [
              "0.050000000000000065"
            ]
          },
          "metadata": {},
          "execution_count": 33
        }
      ]
    },
    {
      "cell_type": "markdown",
      "source": [
        "####**Standard AD vs Nudge AD**"
      ],
      "metadata": {
        "id": "MR2lROcMDf_5"
      }
    },
    {
      "cell_type": "code",
      "source": [
        "group2_3 = merged[merged['Treatment Group']!= 1]\n",
        "sd=np.std(group2_3['Total Transactions (post)'])\n",
        "ATE= -0.005\n",
        "TTestPower().power(effect_size= ATE/sd, nobs= 1031, alternative='two-sided', alpha=.05)"
      ],
      "metadata": {
        "id": "5_EtvkU-ScFQ",
        "colab": {
          "base_uri": "https://localhost:8080/"
        },
        "outputId": "b26bdd48-41b4-49ee-dd7f-ca0fa187b059"
      },
      "execution_count": null,
      "outputs": [
        {
          "output_type": "execute_result",
          "data": {
            "text/plain": [
              "0.25342840319668325"
            ]
          },
          "metadata": {},
          "execution_count": 34
        }
      ]
    },
    {
      "cell_type": "code",
      "source": [
        "group2_3 = merged[merged['Treatment Group']!= 1]\n",
        "sd=np.std(group2_3['Quantity (post)'])\n",
        "ATE= -0.0017\n",
        "TTestPower().power(effect_size= ATE/sd, nobs= 1031, alternative='two-sided', alpha=.05)\n"
      ],
      "metadata": {
        "id": "LgZDVRRQSf-n",
        "colab": {
          "base_uri": "https://localhost:8080/"
        },
        "outputId": "c207d0da-7592-4e68-c85d-35cf6326af33"
      },
      "execution_count": null,
      "outputs": [
        {
          "output_type": "execute_result",
          "data": {
            "text/plain": [
              "0.055227553013863395"
            ]
          },
          "metadata": {},
          "execution_count": 35
        }
      ]
    },
    {
      "cell_type": "code",
      "source": [
        "group2_3 = merged[merged['Treatment Group']!= 1]\n",
        "sd=np.std(group2_3['Net Sales (post)'])\n",
        "ATE=  -533.770\n",
        "TTestPower().power(effect_size= ATE/sd, nobs= 1031, alternative='two-sided', alpha=.05)\n"
      ],
      "metadata": {
        "id": "7inW6wfNSjm_",
        "colab": {
          "base_uri": "https://localhost:8080/"
        },
        "outputId": "9d6193ca-db68-4b45-90dc-606d706170fb"
      },
      "execution_count": null,
      "outputs": [
        {
          "output_type": "execute_result",
          "data": {
            "text/plain": [
              "0.1674953593324739"
            ]
          },
          "metadata": {},
          "execution_count": 36
        }
      ]
    },
    {
      "cell_type": "code",
      "source": [
        "group2_3 = merged[merged['Treatment Group']!= 1]\n",
        "sd=np.std(group2_3['Purchase Propensity (post)'])\n",
        "ATE= -0.002\n",
        "\n",
        "TTestPower().power(effect_size= ATE/sd, nobs= 1031, alternative='two-sided', alpha=.05)\n"
      ],
      "metadata": {
        "id": "_YP8PlIMSrMa",
        "colab": {
          "base_uri": "https://localhost:8080/"
        },
        "outputId": "6a600f15-0ab3-4b87-f5b5-9ecc40b18982"
      },
      "execution_count": null,
      "outputs": [
        {
          "output_type": "execute_result",
          "data": {
            "text/plain": [
              "0.10045603261284239"
            ]
          },
          "metadata": {},
          "execution_count": 40
        }
      ]
    },
    {
      "cell_type": "markdown",
      "source": [
        "###**ROI**"
      ],
      "metadata": {
        "id": "l_6ZOSqxAJBh"
      }
    },
    {
      "cell_type": "code",
      "source": [
        "cost_per_ad = 0.0604 * 450 * 1.01\n",
        "\n",
        "avg_margin = 0.57 # average 57% margin on sales\n",
        "\n",
        "# Fixed Effects model - Without Tatiana - Standard Ad (Treatment 1)\n",
        "\n",
        "effect = 755.208\n",
        "se = 539.417\n",
        "effect_lower = effect - se*1.96\n",
        "effect_upper = effect + se*1.96\n",
        "\n",
        "roi = (effect*avg_margin - cost_per_ad)/cost_per_ad\n",
        "roi_lower = (effect_lower*avg_margin - cost_per_ad)/cost_per_ad\n",
        "roi_upper = (effect_upper*avg_margin - cost_per_ad)/cost_per_ad\n",
        "\n",
        "print(f'Estimated ROIs w/o Tatiana: Estimate - {roi},Lower Bound - {roi_lower}, Upper Bound - {roi_upper}')\n",
        "\n",
        "# Fixed Effects model - with Tatiana - Standard Ad (Treatment 1)\n",
        "\n",
        "effect_t = -556.843\n",
        "se_t = 1417.712\n",
        "effect_t_lower = effect_t - se_t*1.96\n",
        "effect_t_upper = effect_t + se_t*1.96\n",
        "\n",
        "roi_t = (effect_t*avg_margin - cost_per_ad)/cost_per_ad\n",
        "roi_t_lower = (effect_t_lower*avg_margin - cost_per_ad)/cost_per_ad\n",
        "roi_t_upper = (effect_t_upper*avg_margin - cost_per_ad)/cost_per_ad\n",
        "\n",
        "print(f'Estimated ROIs w/ Tatiana: Estimate - {roi_t},Lower Bound - {roi_t_lower}, Upper Bound - {roi_t_upper}')\n"
      ],
      "metadata": {
        "id": "dSbJRm-BJnN2",
        "colab": {
          "base_uri": "https://localhost:8080/"
        },
        "outputId": "d4d2e8a0-d292-42f4-82c8-c7253dbba571"
      },
      "execution_count": null,
      "outputs": [
        {
          "output_type": "stream",
          "name": "stdout",
          "text": [
            "Estimated ROIs w/o Tatiana: Estimate - 14.68088649924595,Lower Bound - -7.271651126702072, Upper Bound - 36.63342412519397\n",
            "Estimated ROIs w/ Tatiana: Estimate - -12.562101938670686,Lower Bound - -70.25842226739229, Upper Bound - 45.13421839005092\n"
          ]
        }
      ]
    },
    {
      "cell_type": "markdown",
      "source": [
        "As we can see, Without Tatiana, the estimated Return on Investment (ROI) is approximately 14.68%, with a lower bound of -7.27% and an upper bound of 36.63%.\n",
        "<br> With Tatiana included, the estimated ROI is around -12.56%, with a lower bound of -70.26% and an upper bound of 45.13%."
      ],
      "metadata": {
        "id": "Uin_eHkmk4oj"
      }
    }
  ]
}